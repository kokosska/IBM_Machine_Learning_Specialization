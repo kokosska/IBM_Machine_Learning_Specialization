{
 "cells": [
  {
   "cell_type": "markdown",
   "metadata": {},
   "source": [
    "# Introduction"
   ]
  },
  {
   "cell_type": "markdown",
   "metadata": {},
   "source": [
    "One of the main objectives of this course is to help you gain hands-on experience in communicating insightful and impactful findings to stakeholders. In this project you will use the tools and techniques you learned throughout this course to train a few linear regressions on a data set that you feel passionate about, select the regression that best suits your needs, and communicate insights you found from your modeling exercise."
   ]
  },
  {
   "cell_type": "markdown",
   "metadata": {},
   "source": [
    "This notebook is part of my IBM Machine Learning Professional Certificate."
   ]
  },
  {
   "cell_type": "markdown",
   "metadata": {},
   "source": [
    "## Importing Needed packages"
   ]
  },
  {
   "cell_type": "code",
   "execution_count": 153,
   "metadata": {},
   "outputs": [],
   "source": [
    "import pandas as pd\n",
    "import numpy as np\n",
    "import matplotlib.pyplot as plt\n",
    "import seaborn as sns\n",
    "from sklearn.linear_model import LinearRegression\n",
    "from sklearn.linear_model import Ridge\n",
    "from sklearn.linear_model import Lasso \n",
    "from sklearn.preprocessing import StandardScaler, PolynomialFeatures\n",
    "from sklearn.model_selection import KFold, cross_val_predict, GridSearchCV, train_test_split\n",
    "from sklearn.metrics import r2_score, mean_squared_error, mean_absolute_error\n",
    "from sklearn.pipeline import Pipeline"
   ]
  },
  {
   "cell_type": "markdown",
   "metadata": {},
   "source": [
    "## Load the Data"
   ]
  },
  {
   "cell_type": "code",
   "execution_count": 154,
   "metadata": {},
   "outputs": [
    {
     "data": {
      "text/html": [
       "<div>\n",
       "<style scoped>\n",
       "    .dataframe tbody tr th:only-of-type {\n",
       "        vertical-align: middle;\n",
       "    }\n",
       "\n",
       "    .dataframe tbody tr th {\n",
       "        vertical-align: top;\n",
       "    }\n",
       "\n",
       "    .dataframe thead th {\n",
       "        text-align: right;\n",
       "    }\n",
       "</style>\n",
       "<table border=\"1\" class=\"dataframe\">\n",
       "  <thead>\n",
       "    <tr style=\"text-align: right;\">\n",
       "      <th></th>\n",
       "      <th>MODELYEAR</th>\n",
       "      <th>MAKE</th>\n",
       "      <th>MODEL</th>\n",
       "      <th>VEHICLECLASS</th>\n",
       "      <th>ENGINESIZE</th>\n",
       "      <th>CYLINDERS</th>\n",
       "      <th>TRANSMISSION</th>\n",
       "      <th>FUELTYPE</th>\n",
       "      <th>FUELCONSUMPTION_CITY</th>\n",
       "      <th>FUELCONSUMPTION_HWY</th>\n",
       "      <th>FUELCONSUMPTION_COMB</th>\n",
       "      <th>FUELCONSUMPTION_COMB_MPG</th>\n",
       "      <th>CO2EMISSIONS</th>\n",
       "    </tr>\n",
       "  </thead>\n",
       "  <tbody>\n",
       "    <tr>\n",
       "      <th>0</th>\n",
       "      <td>2014</td>\n",
       "      <td>ACURA</td>\n",
       "      <td>ILX</td>\n",
       "      <td>COMPACT</td>\n",
       "      <td>2.0</td>\n",
       "      <td>4</td>\n",
       "      <td>AS5</td>\n",
       "      <td>Z</td>\n",
       "      <td>9.9</td>\n",
       "      <td>6.7</td>\n",
       "      <td>8.5</td>\n",
       "      <td>33</td>\n",
       "      <td>196</td>\n",
       "    </tr>\n",
       "    <tr>\n",
       "      <th>1</th>\n",
       "      <td>2014</td>\n",
       "      <td>ACURA</td>\n",
       "      <td>ILX</td>\n",
       "      <td>COMPACT</td>\n",
       "      <td>2.4</td>\n",
       "      <td>4</td>\n",
       "      <td>M6</td>\n",
       "      <td>Z</td>\n",
       "      <td>11.2</td>\n",
       "      <td>7.7</td>\n",
       "      <td>9.6</td>\n",
       "      <td>29</td>\n",
       "      <td>221</td>\n",
       "    </tr>\n",
       "    <tr>\n",
       "      <th>2</th>\n",
       "      <td>2014</td>\n",
       "      <td>ACURA</td>\n",
       "      <td>ILX HYBRID</td>\n",
       "      <td>COMPACT</td>\n",
       "      <td>1.5</td>\n",
       "      <td>4</td>\n",
       "      <td>AV7</td>\n",
       "      <td>Z</td>\n",
       "      <td>6.0</td>\n",
       "      <td>5.8</td>\n",
       "      <td>5.9</td>\n",
       "      <td>48</td>\n",
       "      <td>136</td>\n",
       "    </tr>\n",
       "    <tr>\n",
       "      <th>3</th>\n",
       "      <td>2014</td>\n",
       "      <td>ACURA</td>\n",
       "      <td>MDX 4WD</td>\n",
       "      <td>SUV - SMALL</td>\n",
       "      <td>3.5</td>\n",
       "      <td>6</td>\n",
       "      <td>AS6</td>\n",
       "      <td>Z</td>\n",
       "      <td>12.7</td>\n",
       "      <td>9.1</td>\n",
       "      <td>11.1</td>\n",
       "      <td>25</td>\n",
       "      <td>255</td>\n",
       "    </tr>\n",
       "    <tr>\n",
       "      <th>4</th>\n",
       "      <td>2014</td>\n",
       "      <td>ACURA</td>\n",
       "      <td>RDX AWD</td>\n",
       "      <td>SUV - SMALL</td>\n",
       "      <td>3.5</td>\n",
       "      <td>6</td>\n",
       "      <td>AS6</td>\n",
       "      <td>Z</td>\n",
       "      <td>12.1</td>\n",
       "      <td>8.7</td>\n",
       "      <td>10.6</td>\n",
       "      <td>27</td>\n",
       "      <td>244</td>\n",
       "    </tr>\n",
       "  </tbody>\n",
       "</table>\n",
       "</div>"
      ],
      "text/plain": [
       "   MODELYEAR   MAKE       MODEL VEHICLECLASS  ENGINESIZE  CYLINDERS  \\\n",
       "0       2014  ACURA         ILX      COMPACT         2.0          4   \n",
       "1       2014  ACURA         ILX      COMPACT         2.4          4   \n",
       "2       2014  ACURA  ILX HYBRID      COMPACT         1.5          4   \n",
       "3       2014  ACURA     MDX 4WD  SUV - SMALL         3.5          6   \n",
       "4       2014  ACURA     RDX AWD  SUV - SMALL         3.5          6   \n",
       "\n",
       "  TRANSMISSION FUELTYPE  FUELCONSUMPTION_CITY  FUELCONSUMPTION_HWY  \\\n",
       "0          AS5        Z                   9.9                  6.7   \n",
       "1           M6        Z                  11.2                  7.7   \n",
       "2          AV7        Z                   6.0                  5.8   \n",
       "3          AS6        Z                  12.7                  9.1   \n",
       "4          AS6        Z                  12.1                  8.7   \n",
       "\n",
       "   FUELCONSUMPTION_COMB  FUELCONSUMPTION_COMB_MPG  CO2EMISSIONS  \n",
       "0                   8.5                        33           196  \n",
       "1                   9.6                        29           221  \n",
       "2                   5.9                        48           136  \n",
       "3                  11.1                        25           255  \n",
       "4                  10.6                        27           244  "
      ]
     },
     "execution_count": 154,
     "metadata": {},
     "output_type": "execute_result"
    }
   ],
   "source": [
    "df = pd.read_csv('FuelConsumption.csv')\n",
    "df.head()"
   ]
  },
  {
   "cell_type": "code",
   "execution_count": 155,
   "metadata": {},
   "outputs": [
    {
     "data": {
      "text/plain": [
       "MID-SIZE                    178\n",
       "COMPACT                     172\n",
       "SUV - SMALL                 154\n",
       "SUV - STANDARD              110\n",
       "FULL-SIZE                    86\n",
       "TWO-SEATER                   71\n",
       "SUBCOMPACT                   65\n",
       "PICKUP TRUCK - STANDARD      62\n",
       "MINICOMPACT                  47\n",
       "STATION WAGON - SMALL        36\n",
       "VAN - PASSENGER              25\n",
       "VAN - CARGO                  22\n",
       "MINIVAN                      14\n",
       "PICKUP TRUCK - SMALL         12\n",
       "SPECIAL PURPOSE VEHICLE       7\n",
       "STATION WAGON - MID-SIZE      6\n",
       "Name: VEHICLECLASS, dtype: int64"
      ]
     },
     "execution_count": 155,
     "metadata": {},
     "output_type": "execute_result"
    }
   ],
   "source": [
    "df['VEHICLECLASS'].value_counts()"
   ]
  },
  {
   "cell_type": "code",
   "execution_count": 156,
   "metadata": {},
   "outputs": [
    {
     "data": {
      "text/plain": [
       "(1067, 13)"
      ]
     },
     "execution_count": 156,
     "metadata": {},
     "output_type": "execute_result"
    }
   ],
   "source": [
    "df.shape"
   ]
  },
  {
   "cell_type": "markdown",
   "metadata": {},
   "source": [
    "## Understanding the Data\n",
    "\n",
    "### `FuelConsumption.csv`:\n",
    "\n",
    "I have downloaded a fuel consumption dataset, **`FuelConsumption.csv`**, which contains model-specific fuel consumption ratings and estimated carbon dioxide emissions for new light-duty vehicles for retail sale in Canada. [Dataset source](https://open.canada.ca/data/en/dataset/98f1a129-f628-4ce4-b24d-6f16bf24dd64?utm_medium=Exinfluencer&utm_source=Exinfluencer&utm_content=000026UJ&utm_term=10006555&utm_id=NA-SkillsNetwork-Channel-SkillsNetworkCoursesIBMDeveloperSkillsNetworkML0101ENSkillsNetwork20718538-2021-01-01)\n",
    "\n",
    "*   **MODELYEAR** e.g. 2014\n",
    "*   **MAKE** e.g. Acura\n",
    "*   **MODEL** e.g. ILX\n",
    "      * 4WD/4X4 = Four-wheel drive\n",
    "      * AWD = All-wheel drive\n",
    "      * CNG = Compressed natural gas\n",
    "      * FFV = Flexible-fuel vehicle\n",
    "      * NGV = Natural gas vehicle\n",
    "*   **VEHICLE CLASS** e.g. SUV\n",
    "*   **ENGINE SIZE** e.g. 4.7\n",
    "*   **CYLINDERS** e.g 6\n",
    "*   **TRANSMISSION** e.g. A6\n",
    "      * A = Automatic\n",
    "      * AM = Automated manual\n",
    "      * AS = Automatic with select shift\n",
    "      * AV = Continuously variable\n",
    "      * M = Manual\n",
    "      * 3 – 10 = Number of gears\n",
    "* **FUELTYPE**\n",
    "     * X = Regular gasoline\n",
    "     * Z = Premium gasoline\n",
    "     * D = Diesel\n",
    "     * E = Ethanol (E85)\n",
    "     * N = Natural Gas\n",
    "*   **FUEL CONSUMPTION in CITY(L/100 km)** --> City and highway fuel consumption ratings are shown in litres per 100 kilometres (L/100 km) - combined rating (55% city, 45% hwy) is shown in L/100 km and in miles per imperial gallon (mpg)--> e.g. 9.9\n",
    "*   **FUEL CONSUMPTION in HWY (L/100 km)** e.g. 8.9\n",
    "*   **FUEL CONSUMPTION COMB (L/100 km)** e.g. 9.2\n",
    "*   **CO2 EMISSIONS (g/km)** --> Estimated tailpipe carbon dioxide emissions (in grams per kilometre) are based on fuel type and the combined fuel consumption rating --> e.g. 182   --> low --> 0\n"
   ]
  },
  {
   "cell_type": "markdown",
   "metadata": {},
   "source": [
    "## Data Exporation"
   ]
  },
  {
   "cell_type": "markdown",
   "metadata": {},
   "source": [
    "Let's first have a descriptive exploration on our data."
   ]
  },
  {
   "cell_type": "code",
   "execution_count": 157,
   "metadata": {},
   "outputs": [
    {
     "data": {
      "text/html": [
       "<div>\n",
       "<style scoped>\n",
       "    .dataframe tbody tr th:only-of-type {\n",
       "        vertical-align: middle;\n",
       "    }\n",
       "\n",
       "    .dataframe tbody tr th {\n",
       "        vertical-align: top;\n",
       "    }\n",
       "\n",
       "    .dataframe thead th {\n",
       "        text-align: right;\n",
       "    }\n",
       "</style>\n",
       "<table border=\"1\" class=\"dataframe\">\n",
       "  <thead>\n",
       "    <tr style=\"text-align: right;\">\n",
       "      <th></th>\n",
       "      <th>MODELYEAR</th>\n",
       "      <th>ENGINESIZE</th>\n",
       "      <th>CYLINDERS</th>\n",
       "      <th>FUELCONSUMPTION_CITY</th>\n",
       "      <th>FUELCONSUMPTION_HWY</th>\n",
       "      <th>FUELCONSUMPTION_COMB</th>\n",
       "      <th>FUELCONSUMPTION_COMB_MPG</th>\n",
       "      <th>CO2EMISSIONS</th>\n",
       "    </tr>\n",
       "  </thead>\n",
       "  <tbody>\n",
       "    <tr>\n",
       "      <th>count</th>\n",
       "      <td>1067.0</td>\n",
       "      <td>1067.000000</td>\n",
       "      <td>1067.000000</td>\n",
       "      <td>1067.000000</td>\n",
       "      <td>1067.000000</td>\n",
       "      <td>1067.000000</td>\n",
       "      <td>1067.000000</td>\n",
       "      <td>1067.000000</td>\n",
       "    </tr>\n",
       "    <tr>\n",
       "      <th>mean</th>\n",
       "      <td>2014.0</td>\n",
       "      <td>3.346298</td>\n",
       "      <td>5.794752</td>\n",
       "      <td>13.296532</td>\n",
       "      <td>9.474602</td>\n",
       "      <td>11.580881</td>\n",
       "      <td>26.441425</td>\n",
       "      <td>256.228679</td>\n",
       "    </tr>\n",
       "    <tr>\n",
       "      <th>std</th>\n",
       "      <td>0.0</td>\n",
       "      <td>1.415895</td>\n",
       "      <td>1.797447</td>\n",
       "      <td>4.101253</td>\n",
       "      <td>2.794510</td>\n",
       "      <td>3.485595</td>\n",
       "      <td>7.468702</td>\n",
       "      <td>63.372304</td>\n",
       "    </tr>\n",
       "    <tr>\n",
       "      <th>min</th>\n",
       "      <td>2014.0</td>\n",
       "      <td>1.000000</td>\n",
       "      <td>3.000000</td>\n",
       "      <td>4.600000</td>\n",
       "      <td>4.900000</td>\n",
       "      <td>4.700000</td>\n",
       "      <td>11.000000</td>\n",
       "      <td>108.000000</td>\n",
       "    </tr>\n",
       "    <tr>\n",
       "      <th>25%</th>\n",
       "      <td>2014.0</td>\n",
       "      <td>2.000000</td>\n",
       "      <td>4.000000</td>\n",
       "      <td>10.250000</td>\n",
       "      <td>7.500000</td>\n",
       "      <td>9.000000</td>\n",
       "      <td>21.000000</td>\n",
       "      <td>207.000000</td>\n",
       "    </tr>\n",
       "    <tr>\n",
       "      <th>50%</th>\n",
       "      <td>2014.0</td>\n",
       "      <td>3.400000</td>\n",
       "      <td>6.000000</td>\n",
       "      <td>12.600000</td>\n",
       "      <td>8.800000</td>\n",
       "      <td>10.900000</td>\n",
       "      <td>26.000000</td>\n",
       "      <td>251.000000</td>\n",
       "    </tr>\n",
       "    <tr>\n",
       "      <th>75%</th>\n",
       "      <td>2014.0</td>\n",
       "      <td>4.300000</td>\n",
       "      <td>8.000000</td>\n",
       "      <td>15.550000</td>\n",
       "      <td>10.850000</td>\n",
       "      <td>13.350000</td>\n",
       "      <td>31.000000</td>\n",
       "      <td>294.000000</td>\n",
       "    </tr>\n",
       "    <tr>\n",
       "      <th>max</th>\n",
       "      <td>2014.0</td>\n",
       "      <td>8.400000</td>\n",
       "      <td>12.000000</td>\n",
       "      <td>30.200000</td>\n",
       "      <td>20.500000</td>\n",
       "      <td>25.800000</td>\n",
       "      <td>60.000000</td>\n",
       "      <td>488.000000</td>\n",
       "    </tr>\n",
       "  </tbody>\n",
       "</table>\n",
       "</div>"
      ],
      "text/plain": [
       "       MODELYEAR   ENGINESIZE    CYLINDERS  FUELCONSUMPTION_CITY  \\\n",
       "count     1067.0  1067.000000  1067.000000           1067.000000   \n",
       "mean      2014.0     3.346298     5.794752             13.296532   \n",
       "std          0.0     1.415895     1.797447              4.101253   \n",
       "min       2014.0     1.000000     3.000000              4.600000   \n",
       "25%       2014.0     2.000000     4.000000             10.250000   \n",
       "50%       2014.0     3.400000     6.000000             12.600000   \n",
       "75%       2014.0     4.300000     8.000000             15.550000   \n",
       "max       2014.0     8.400000    12.000000             30.200000   \n",
       "\n",
       "       FUELCONSUMPTION_HWY  FUELCONSUMPTION_COMB  FUELCONSUMPTION_COMB_MPG  \\\n",
       "count          1067.000000           1067.000000               1067.000000   \n",
       "mean              9.474602             11.580881                 26.441425   \n",
       "std               2.794510              3.485595                  7.468702   \n",
       "min               4.900000              4.700000                 11.000000   \n",
       "25%               7.500000              9.000000                 21.000000   \n",
       "50%               8.800000             10.900000                 26.000000   \n",
       "75%              10.850000             13.350000                 31.000000   \n",
       "max              20.500000             25.800000                 60.000000   \n",
       "\n",
       "       CO2EMISSIONS  \n",
       "count   1067.000000  \n",
       "mean     256.228679  \n",
       "std       63.372304  \n",
       "min      108.000000  \n",
       "25%      207.000000  \n",
       "50%      251.000000  \n",
       "75%      294.000000  \n",
       "max      488.000000  "
      ]
     },
     "execution_count": 157,
     "metadata": {},
     "output_type": "execute_result"
    }
   ],
   "source": [
    "df.describe()"
   ]
  },
  {
   "cell_type": "code",
   "execution_count": 158,
   "metadata": {},
   "outputs": [
    {
     "data": {
      "text/html": [
       "<div>\n",
       "<style scoped>\n",
       "    .dataframe tbody tr th:only-of-type {\n",
       "        vertical-align: middle;\n",
       "    }\n",
       "\n",
       "    .dataframe tbody tr th {\n",
       "        vertical-align: top;\n",
       "    }\n",
       "\n",
       "    .dataframe thead th {\n",
       "        text-align: right;\n",
       "    }\n",
       "</style>\n",
       "<table border=\"1\" class=\"dataframe\">\n",
       "  <thead>\n",
       "    <tr style=\"text-align: right;\">\n",
       "      <th></th>\n",
       "      <th>Data Type</th>\n",
       "    </tr>\n",
       "  </thead>\n",
       "  <tbody>\n",
       "    <tr>\n",
       "      <th>MODELYEAR</th>\n",
       "      <td>int64</td>\n",
       "    </tr>\n",
       "    <tr>\n",
       "      <th>MAKE</th>\n",
       "      <td>object</td>\n",
       "    </tr>\n",
       "    <tr>\n",
       "      <th>MODEL</th>\n",
       "      <td>object</td>\n",
       "    </tr>\n",
       "    <tr>\n",
       "      <th>VEHICLECLASS</th>\n",
       "      <td>object</td>\n",
       "    </tr>\n",
       "    <tr>\n",
       "      <th>ENGINESIZE</th>\n",
       "      <td>float64</td>\n",
       "    </tr>\n",
       "    <tr>\n",
       "      <th>CYLINDERS</th>\n",
       "      <td>int64</td>\n",
       "    </tr>\n",
       "    <tr>\n",
       "      <th>TRANSMISSION</th>\n",
       "      <td>object</td>\n",
       "    </tr>\n",
       "    <tr>\n",
       "      <th>FUELTYPE</th>\n",
       "      <td>object</td>\n",
       "    </tr>\n",
       "    <tr>\n",
       "      <th>FUELCONSUMPTION_CITY</th>\n",
       "      <td>float64</td>\n",
       "    </tr>\n",
       "    <tr>\n",
       "      <th>FUELCONSUMPTION_HWY</th>\n",
       "      <td>float64</td>\n",
       "    </tr>\n",
       "    <tr>\n",
       "      <th>FUELCONSUMPTION_COMB</th>\n",
       "      <td>float64</td>\n",
       "    </tr>\n",
       "    <tr>\n",
       "      <th>FUELCONSUMPTION_COMB_MPG</th>\n",
       "      <td>int64</td>\n",
       "    </tr>\n",
       "    <tr>\n",
       "      <th>CO2EMISSIONS</th>\n",
       "      <td>int64</td>\n",
       "    </tr>\n",
       "  </tbody>\n",
       "</table>\n",
       "</div>"
      ],
      "text/plain": [
       "                         Data Type\n",
       "MODELYEAR                    int64\n",
       "MAKE                        object\n",
       "MODEL                       object\n",
       "VEHICLECLASS                object\n",
       "ENGINESIZE                 float64\n",
       "CYLINDERS                    int64\n",
       "TRANSMISSION                object\n",
       "FUELTYPE                    object\n",
       "FUELCONSUMPTION_CITY       float64\n",
       "FUELCONSUMPTION_HWY        float64\n",
       "FUELCONSUMPTION_COMB       float64\n",
       "FUELCONSUMPTION_COMB_MPG     int64\n",
       "CO2EMISSIONS                 int64"
      ]
     },
     "execution_count": 158,
     "metadata": {},
     "output_type": "execute_result"
    }
   ],
   "source": [
    "df.dtypes.to_frame().rename(columns={0:'Data Type'})"
   ]
  },
  {
   "cell_type": "code",
   "execution_count": 159,
   "metadata": {},
   "outputs": [
    {
     "data": {
      "text/plain": [
       "MODELYEAR                   0\n",
       "MAKE                        0\n",
       "MODEL                       0\n",
       "VEHICLECLASS                0\n",
       "ENGINESIZE                  0\n",
       "CYLINDERS                   0\n",
       "TRANSMISSION                0\n",
       "FUELTYPE                    0\n",
       "FUELCONSUMPTION_CITY        0\n",
       "FUELCONSUMPTION_HWY         0\n",
       "FUELCONSUMPTION_COMB        0\n",
       "FUELCONSUMPTION_COMB_MPG    0\n",
       "CO2EMISSIONS                0\n",
       "dtype: int64"
      ]
     },
     "execution_count": 159,
     "metadata": {},
     "output_type": "execute_result"
    }
   ],
   "source": [
    "df.isnull().sum()"
   ]
  },
  {
   "cell_type": "markdown",
   "metadata": {},
   "source": [
    "### Log transforming skewed variables"
   ]
  },
  {
   "cell_type": "code",
   "execution_count": 160,
   "metadata": {},
   "outputs": [],
   "source": [
    "# Create a list of float colums to check for skewing\n",
    "mask = df.dtypes != np.object\n",
    "num_cols = df.columns[mask]\n",
    "\n",
    "skew_limit = 0.75 # define a limit above which we will log transform\n",
    "skew_vals = df[num_cols].skew()"
   ]
  },
  {
   "cell_type": "code",
   "execution_count": 161,
   "metadata": {},
   "outputs": [
    {
     "data": {
      "text/html": [
       "<div>\n",
       "<style scoped>\n",
       "    .dataframe tbody tr th:only-of-type {\n",
       "        vertical-align: middle;\n",
       "    }\n",
       "\n",
       "    .dataframe tbody tr th {\n",
       "        vertical-align: top;\n",
       "    }\n",
       "\n",
       "    .dataframe thead th {\n",
       "        text-align: right;\n",
       "    }\n",
       "</style>\n",
       "<table border=\"1\" class=\"dataframe\">\n",
       "  <thead>\n",
       "    <tr style=\"text-align: right;\">\n",
       "      <th></th>\n",
       "      <th>Skew</th>\n",
       "    </tr>\n",
       "  </thead>\n",
       "  <tbody>\n",
       "    <tr>\n",
       "      <th>FUELCONSUMPTION_HWY</th>\n",
       "      <td>1.263859</td>\n",
       "    </tr>\n",
       "    <tr>\n",
       "      <th>FUELCONSUMPTION_COMB</th>\n",
       "      <td>1.032592</td>\n",
       "    </tr>\n",
       "    <tr>\n",
       "      <th>FUELCONSUMPTION_CITY</th>\n",
       "      <td>0.900629</td>\n",
       "    </tr>\n",
       "    <tr>\n",
       "      <th>CYLINDERS</th>\n",
       "      <td>0.795754</td>\n",
       "    </tr>\n",
       "  </tbody>\n",
       "</table>\n",
       "</div>"
      ],
      "text/plain": [
       "                          Skew\n",
       "FUELCONSUMPTION_HWY   1.263859\n",
       "FUELCONSUMPTION_COMB  1.032592\n",
       "FUELCONSUMPTION_CITY  0.900629\n",
       "CYLINDERS             0.795754"
      ]
     },
     "execution_count": 161,
     "metadata": {},
     "output_type": "execute_result"
    }
   ],
   "source": [
    "# Showing the skewed columns\n",
    "skew_cols = (skew_vals\n",
    "             .sort_values(ascending=False)\n",
    "             .to_frame()\n",
    "             .rename(columns={0:'Skew'})\n",
    "             .query('abs(Skew) > {}'.format(skew_limit)))\n",
    "\n",
    "skew_cols"
   ]
  },
  {
   "cell_type": "code",
   "execution_count": 162,
   "metadata": {},
   "outputs": [],
   "source": [
    "# Perform the skew transformation:\n",
    "\n",
    "for col in skew_cols.index.values:\n",
    "    if col == \"CO2EMISSIONS\": # this is in case if in our skew_col will be target variable CO2EMISSIONS\n",
    "        continue\n",
    "    df[col] = df[col].apply(np.log1p)"
   ]
  },
  {
   "cell_type": "markdown",
   "metadata": {},
   "source": [
    "### One Hot Encoding"
   ]
  },
  {
   "cell_type": "markdown",
   "metadata": {},
   "source": [
    "A significant challenge, particularly when dealing with data that have many columns, is ensuring each column gets encoded correctly.\n",
    "\n",
    "This is particularly true with data columns that are ordered categoricals (ordinals) vs unordered categoricals. Unordered categoricals should be one-hot encoded, however this can significantly increase the number of features and creates features that are highly correlated with each other.\n",
    "\n",
    "Determine how many total features would be present, relative to what currently exists, if all string (object) features are one-hot encoded. Recall that the total number of one-hot encoded columns is `n-1`, where n is the number of categories."
   ]
  },
  {
   "cell_type": "code",
   "execution_count": 163,
   "metadata": {},
   "outputs": [],
   "source": [
    "# Select the object (string) columns\n",
    "mask = df.dtypes == np.object\n",
    "categorical_cols = df.columns[mask]"
   ]
  },
  {
   "cell_type": "code",
   "execution_count": 164,
   "metadata": {},
   "outputs": [
    {
     "data": {
      "text/plain": [
       "739"
      ]
     },
     "execution_count": 164,
     "metadata": {},
     "output_type": "execute_result"
    }
   ],
   "source": [
    "# Determine how many extra columns would be created\n",
    "num_ohc_cols = (df[categorical_cols]\n",
    "                .apply(lambda x: x.nunique())\n",
    "                .sort_values(ascending=False))\n",
    "\n",
    "\n",
    "# No need to encode if there is only one value\n",
    "small_num_ohc_cols = num_ohc_cols.loc[num_ohc_cols>1]\n",
    "\n",
    "# Number of one-hot columns is one less than the number of categories\n",
    "small_num_ohc_cols -= 1\n",
    "\n",
    "# This is 739 columns, assuming the original ones are dropped. \n",
    "# This is quite a few extra columns!\n",
    "small_num_ohc_cols.sum()"
   ]
  },
  {
   "cell_type": "markdown",
   "metadata": {},
   "source": [
    "The total number of columns will be huge, so I decided to take only two categorical columns `FUELTYPE` and `VEHICLECLASS` which seems for me be reasonable choice and I would like to check with what number of total encoded columns I will end. "
   ]
  },
  {
   "cell_type": "code",
   "execution_count": 165,
   "metadata": {},
   "outputs": [],
   "source": [
    "# copy orginal dataframe\n",
    "df2 = df.copy()"
   ]
  },
  {
   "cell_type": "code",
   "execution_count": 166,
   "metadata": {},
   "outputs": [
    {
     "data": {
      "text/html": [
       "<div>\n",
       "<style scoped>\n",
       "    .dataframe tbody tr th:only-of-type {\n",
       "        vertical-align: middle;\n",
       "    }\n",
       "\n",
       "    .dataframe tbody tr th {\n",
       "        vertical-align: top;\n",
       "    }\n",
       "\n",
       "    .dataframe thead th {\n",
       "        text-align: right;\n",
       "    }\n",
       "</style>\n",
       "<table border=\"1\" class=\"dataframe\">\n",
       "  <thead>\n",
       "    <tr style=\"text-align: right;\">\n",
       "      <th></th>\n",
       "      <th>VEHICLECLASS</th>\n",
       "      <th>ENGINESIZE</th>\n",
       "      <th>CYLINDERS</th>\n",
       "      <th>FUELTYPE</th>\n",
       "      <th>FUELCONSUMPTION_CITY</th>\n",
       "      <th>FUELCONSUMPTION_HWY</th>\n",
       "      <th>FUELCONSUMPTION_COMB</th>\n",
       "      <th>FUELCONSUMPTION_COMB_MPG</th>\n",
       "      <th>CO2EMISSIONS</th>\n",
       "    </tr>\n",
       "  </thead>\n",
       "  <tbody>\n",
       "    <tr>\n",
       "      <th>0</th>\n",
       "      <td>COMPACT</td>\n",
       "      <td>2.0</td>\n",
       "      <td>1.609438</td>\n",
       "      <td>Z</td>\n",
       "      <td>2.388763</td>\n",
       "      <td>2.041220</td>\n",
       "      <td>2.251292</td>\n",
       "      <td>33</td>\n",
       "      <td>196</td>\n",
       "    </tr>\n",
       "    <tr>\n",
       "      <th>1</th>\n",
       "      <td>COMPACT</td>\n",
       "      <td>2.4</td>\n",
       "      <td>1.609438</td>\n",
       "      <td>Z</td>\n",
       "      <td>2.501436</td>\n",
       "      <td>2.163323</td>\n",
       "      <td>2.360854</td>\n",
       "      <td>29</td>\n",
       "      <td>221</td>\n",
       "    </tr>\n",
       "    <tr>\n",
       "      <th>2</th>\n",
       "      <td>COMPACT</td>\n",
       "      <td>1.5</td>\n",
       "      <td>1.609438</td>\n",
       "      <td>Z</td>\n",
       "      <td>1.945910</td>\n",
       "      <td>1.916923</td>\n",
       "      <td>1.931521</td>\n",
       "      <td>48</td>\n",
       "      <td>136</td>\n",
       "    </tr>\n",
       "    <tr>\n",
       "      <th>3</th>\n",
       "      <td>SUV - SMALL</td>\n",
       "      <td>3.5</td>\n",
       "      <td>1.945910</td>\n",
       "      <td>Z</td>\n",
       "      <td>2.617396</td>\n",
       "      <td>2.312535</td>\n",
       "      <td>2.493205</td>\n",
       "      <td>25</td>\n",
       "      <td>255</td>\n",
       "    </tr>\n",
       "    <tr>\n",
       "      <th>4</th>\n",
       "      <td>SUV - SMALL</td>\n",
       "      <td>3.5</td>\n",
       "      <td>1.945910</td>\n",
       "      <td>Z</td>\n",
       "      <td>2.572612</td>\n",
       "      <td>2.272126</td>\n",
       "      <td>2.451005</td>\n",
       "      <td>27</td>\n",
       "      <td>244</td>\n",
       "    </tr>\n",
       "  </tbody>\n",
       "</table>\n",
       "</div>"
      ],
      "text/plain": [
       "  VEHICLECLASS  ENGINESIZE  CYLINDERS FUELTYPE  FUELCONSUMPTION_CITY  \\\n",
       "0      COMPACT         2.0   1.609438        Z              2.388763   \n",
       "1      COMPACT         2.4   1.609438        Z              2.501436   \n",
       "2      COMPACT         1.5   1.609438        Z              1.945910   \n",
       "3  SUV - SMALL         3.5   1.945910        Z              2.617396   \n",
       "4  SUV - SMALL         3.5   1.945910        Z              2.572612   \n",
       "\n",
       "   FUELCONSUMPTION_HWY  FUELCONSUMPTION_COMB  FUELCONSUMPTION_COMB_MPG  \\\n",
       "0             2.041220              2.251292                        33   \n",
       "1             2.163323              2.360854                        29   \n",
       "2             1.916923              1.931521                        48   \n",
       "3             2.312535              2.493205                        25   \n",
       "4             2.272126              2.451005                        27   \n",
       "\n",
       "   CO2EMISSIONS  \n",
       "0           196  \n",
       "1           221  \n",
       "2           136  \n",
       "3           255  \n",
       "4           244  "
      ]
     },
     "execution_count": 166,
     "metadata": {},
     "output_type": "execute_result"
    }
   ],
   "source": [
    "col = ['MODELYEAR', 'MAKE', 'MODEL', 'TRANSMISSION']\n",
    "df2.drop(columns=col, axis=1, inplace=True)\n",
    "df2.head()"
   ]
  },
  {
   "cell_type": "code",
   "execution_count": 167,
   "metadata": {},
   "outputs": [
    {
     "data": {
      "text/plain": [
       "(1067, 9)"
      ]
     },
     "execution_count": 167,
     "metadata": {},
     "output_type": "execute_result"
    }
   ],
   "source": [
    "df2.shape"
   ]
  },
  {
   "cell_type": "code",
   "execution_count": 168,
   "metadata": {},
   "outputs": [],
   "source": [
    "# Select the object (string) columns\n",
    "mask = df2.dtypes == np.object\n",
    "categorical_cols = df2.columns[mask]"
   ]
  },
  {
   "cell_type": "code",
   "execution_count": 169,
   "metadata": {},
   "outputs": [
    {
     "data": {
      "text/plain": [
       "18"
      ]
     },
     "execution_count": 169,
     "metadata": {},
     "output_type": "execute_result"
    }
   ],
   "source": [
    "# Determine how many extra columns would be created\n",
    "num_ohc_cols = (df2[categorical_cols]\n",
    "                .apply(lambda x: x.nunique())\n",
    "                .sort_values(ascending=False))\n",
    "\n",
    "\n",
    "# No need to encode if there is only one value\n",
    "small_num_ohc_cols = num_ohc_cols.loc[num_ohc_cols>1]\n",
    "\n",
    "# Number of one-hot columns is one less than the number of categories\n",
    "small_num_ohc_cols -= 1\n",
    "\n",
    "# This is 215 columns, assuming the original ones are dropped. \n",
    "# This is quite a few extra columns!\n",
    "small_num_ohc_cols.sum()"
   ]
  },
  {
   "cell_type": "markdown",
   "metadata": {},
   "source": [
    "Number of 18 new columns sounds better that 739 which I could produce if I will work with all string object. "
   ]
  },
  {
   "cell_type": "code",
   "execution_count": 170,
   "metadata": {},
   "outputs": [],
   "source": [
    "from sklearn.preprocessing import OneHotEncoder, LabelEncoder\n",
    "\n",
    "# Copy of the data\n",
    "data_ohc = df2.copy()\n",
    "\n",
    "# The encoders\n",
    "le = LabelEncoder()\n",
    "ohc = OneHotEncoder()\n",
    "\n",
    "for col in num_ohc_cols.index:\n",
    "    \n",
    "    # Integer encode the string categories\n",
    "    dat = le.fit_transform(data_ohc[col]).astype(np.int)\n",
    "    \n",
    "    # Remove the original column from the dataframe\n",
    "    data_ohc = data_ohc.drop(col, axis=1)\n",
    "\n",
    "    # One hot encode the data--this returns a sparse array\n",
    "    new_dat = ohc.fit_transform(dat.reshape(-1,1))\n",
    "\n",
    "    # Create unique column names\n",
    "    n_cols = new_dat.shape[1]\n",
    "    col_names = ['_'.join([col, str(x)]) for x in range(n_cols)]\n",
    "\n",
    "    # Create the new dataframe\n",
    "    new_df = pd.DataFrame(new_dat.toarray(), \n",
    "                          index=data_ohc.index, \n",
    "                          columns=col_names)\n",
    "\n",
    "    # Append the new data to the dataframe\n",
    "    data_ohc = pd.concat([data_ohc, new_df], axis=1)"
   ]
  },
  {
   "cell_type": "code",
   "execution_count": 171,
   "metadata": {},
   "outputs": [
    {
     "data": {
      "text/plain": [
       "18"
      ]
     },
     "execution_count": 171,
     "metadata": {},
     "output_type": "execute_result"
    }
   ],
   "source": [
    "# Column difference is as calculated above\n",
    "\n",
    "data_ohc.shape[1] - df2.shape[1]"
   ]
  },
  {
   "cell_type": "code",
   "execution_count": 172,
   "metadata": {},
   "outputs": [
    {
     "data": {
      "text/html": [
       "<div>\n",
       "<style scoped>\n",
       "    .dataframe tbody tr th:only-of-type {\n",
       "        vertical-align: middle;\n",
       "    }\n",
       "\n",
       "    .dataframe tbody tr th {\n",
       "        vertical-align: top;\n",
       "    }\n",
       "\n",
       "    .dataframe thead th {\n",
       "        text-align: right;\n",
       "    }\n",
       "</style>\n",
       "<table border=\"1\" class=\"dataframe\">\n",
       "  <thead>\n",
       "    <tr style=\"text-align: right;\">\n",
       "      <th></th>\n",
       "      <th>ENGINESIZE</th>\n",
       "      <th>CYLINDERS</th>\n",
       "      <th>FUELCONSUMPTION_CITY</th>\n",
       "      <th>FUELCONSUMPTION_HWY</th>\n",
       "      <th>FUELCONSUMPTION_COMB</th>\n",
       "      <th>FUELCONSUMPTION_COMB_MPG</th>\n",
       "      <th>CO2EMISSIONS</th>\n",
       "      <th>VEHICLECLASS_0</th>\n",
       "      <th>VEHICLECLASS_1</th>\n",
       "      <th>VEHICLECLASS_2</th>\n",
       "      <th>...</th>\n",
       "      <th>VEHICLECLASS_10</th>\n",
       "      <th>VEHICLECLASS_11</th>\n",
       "      <th>VEHICLECLASS_12</th>\n",
       "      <th>VEHICLECLASS_13</th>\n",
       "      <th>VEHICLECLASS_14</th>\n",
       "      <th>VEHICLECLASS_15</th>\n",
       "      <th>FUELTYPE_0</th>\n",
       "      <th>FUELTYPE_1</th>\n",
       "      <th>FUELTYPE_2</th>\n",
       "      <th>FUELTYPE_3</th>\n",
       "    </tr>\n",
       "  </thead>\n",
       "  <tbody>\n",
       "    <tr>\n",
       "      <th>0</th>\n",
       "      <td>2.0</td>\n",
       "      <td>1.609438</td>\n",
       "      <td>2.388763</td>\n",
       "      <td>2.041220</td>\n",
       "      <td>2.251292</td>\n",
       "      <td>33</td>\n",
       "      <td>196</td>\n",
       "      <td>1.0</td>\n",
       "      <td>0.0</td>\n",
       "      <td>0.0</td>\n",
       "      <td>...</td>\n",
       "      <td>0.0</td>\n",
       "      <td>0.0</td>\n",
       "      <td>0.0</td>\n",
       "      <td>0.0</td>\n",
       "      <td>0.0</td>\n",
       "      <td>0.0</td>\n",
       "      <td>0.0</td>\n",
       "      <td>0.0</td>\n",
       "      <td>0.0</td>\n",
       "      <td>1.0</td>\n",
       "    </tr>\n",
       "    <tr>\n",
       "      <th>1</th>\n",
       "      <td>2.4</td>\n",
       "      <td>1.609438</td>\n",
       "      <td>2.501436</td>\n",
       "      <td>2.163323</td>\n",
       "      <td>2.360854</td>\n",
       "      <td>29</td>\n",
       "      <td>221</td>\n",
       "      <td>1.0</td>\n",
       "      <td>0.0</td>\n",
       "      <td>0.0</td>\n",
       "      <td>...</td>\n",
       "      <td>0.0</td>\n",
       "      <td>0.0</td>\n",
       "      <td>0.0</td>\n",
       "      <td>0.0</td>\n",
       "      <td>0.0</td>\n",
       "      <td>0.0</td>\n",
       "      <td>0.0</td>\n",
       "      <td>0.0</td>\n",
       "      <td>0.0</td>\n",
       "      <td>1.0</td>\n",
       "    </tr>\n",
       "    <tr>\n",
       "      <th>2</th>\n",
       "      <td>1.5</td>\n",
       "      <td>1.609438</td>\n",
       "      <td>1.945910</td>\n",
       "      <td>1.916923</td>\n",
       "      <td>1.931521</td>\n",
       "      <td>48</td>\n",
       "      <td>136</td>\n",
       "      <td>1.0</td>\n",
       "      <td>0.0</td>\n",
       "      <td>0.0</td>\n",
       "      <td>...</td>\n",
       "      <td>0.0</td>\n",
       "      <td>0.0</td>\n",
       "      <td>0.0</td>\n",
       "      <td>0.0</td>\n",
       "      <td>0.0</td>\n",
       "      <td>0.0</td>\n",
       "      <td>0.0</td>\n",
       "      <td>0.0</td>\n",
       "      <td>0.0</td>\n",
       "      <td>1.0</td>\n",
       "    </tr>\n",
       "    <tr>\n",
       "      <th>3</th>\n",
       "      <td>3.5</td>\n",
       "      <td>1.945910</td>\n",
       "      <td>2.617396</td>\n",
       "      <td>2.312535</td>\n",
       "      <td>2.493205</td>\n",
       "      <td>25</td>\n",
       "      <td>255</td>\n",
       "      <td>0.0</td>\n",
       "      <td>0.0</td>\n",
       "      <td>0.0</td>\n",
       "      <td>...</td>\n",
       "      <td>0.0</td>\n",
       "      <td>1.0</td>\n",
       "      <td>0.0</td>\n",
       "      <td>0.0</td>\n",
       "      <td>0.0</td>\n",
       "      <td>0.0</td>\n",
       "      <td>0.0</td>\n",
       "      <td>0.0</td>\n",
       "      <td>0.0</td>\n",
       "      <td>1.0</td>\n",
       "    </tr>\n",
       "    <tr>\n",
       "      <th>4</th>\n",
       "      <td>3.5</td>\n",
       "      <td>1.945910</td>\n",
       "      <td>2.572612</td>\n",
       "      <td>2.272126</td>\n",
       "      <td>2.451005</td>\n",
       "      <td>27</td>\n",
       "      <td>244</td>\n",
       "      <td>0.0</td>\n",
       "      <td>0.0</td>\n",
       "      <td>0.0</td>\n",
       "      <td>...</td>\n",
       "      <td>0.0</td>\n",
       "      <td>1.0</td>\n",
       "      <td>0.0</td>\n",
       "      <td>0.0</td>\n",
       "      <td>0.0</td>\n",
       "      <td>0.0</td>\n",
       "      <td>0.0</td>\n",
       "      <td>0.0</td>\n",
       "      <td>0.0</td>\n",
       "      <td>1.0</td>\n",
       "    </tr>\n",
       "  </tbody>\n",
       "</table>\n",
       "<p>5 rows × 27 columns</p>\n",
       "</div>"
      ],
      "text/plain": [
       "   ENGINESIZE  CYLINDERS  FUELCONSUMPTION_CITY  FUELCONSUMPTION_HWY  \\\n",
       "0         2.0   1.609438              2.388763             2.041220   \n",
       "1         2.4   1.609438              2.501436             2.163323   \n",
       "2         1.5   1.609438              1.945910             1.916923   \n",
       "3         3.5   1.945910              2.617396             2.312535   \n",
       "4         3.5   1.945910              2.572612             2.272126   \n",
       "\n",
       "   FUELCONSUMPTION_COMB  FUELCONSUMPTION_COMB_MPG  CO2EMISSIONS  \\\n",
       "0              2.251292                        33           196   \n",
       "1              2.360854                        29           221   \n",
       "2              1.931521                        48           136   \n",
       "3              2.493205                        25           255   \n",
       "4              2.451005                        27           244   \n",
       "\n",
       "   VEHICLECLASS_0  VEHICLECLASS_1  VEHICLECLASS_2  ...  VEHICLECLASS_10  \\\n",
       "0             1.0             0.0             0.0  ...              0.0   \n",
       "1             1.0             0.0             0.0  ...              0.0   \n",
       "2             1.0             0.0             0.0  ...              0.0   \n",
       "3             0.0             0.0             0.0  ...              0.0   \n",
       "4             0.0             0.0             0.0  ...              0.0   \n",
       "\n",
       "   VEHICLECLASS_11  VEHICLECLASS_12  VEHICLECLASS_13  VEHICLECLASS_14  \\\n",
       "0              0.0              0.0              0.0              0.0   \n",
       "1              0.0              0.0              0.0              0.0   \n",
       "2              0.0              0.0              0.0              0.0   \n",
       "3              1.0              0.0              0.0              0.0   \n",
       "4              1.0              0.0              0.0              0.0   \n",
       "\n",
       "   VEHICLECLASS_15  FUELTYPE_0  FUELTYPE_1  FUELTYPE_2  FUELTYPE_3  \n",
       "0              0.0         0.0         0.0         0.0         1.0  \n",
       "1              0.0         0.0         0.0         0.0         1.0  \n",
       "2              0.0         0.0         0.0         0.0         1.0  \n",
       "3              0.0         0.0         0.0         0.0         1.0  \n",
       "4              0.0         0.0         0.0         0.0         1.0  \n",
       "\n",
       "[5 rows x 27 columns]"
      ]
     },
     "execution_count": 172,
     "metadata": {},
     "output_type": "execute_result"
    }
   ],
   "source": [
    "df_final = data_ohc.copy()\n",
    "df_final.head()"
   ]
  },
  {
   "cell_type": "code",
   "execution_count": 173,
   "metadata": {},
   "outputs": [
    {
     "data": {
      "text/plain": [
       "(1067, 27)"
      ]
     },
     "execution_count": 173,
     "metadata": {},
     "output_type": "execute_result"
    }
   ],
   "source": [
    "df_final.shape"
   ]
  },
  {
   "cell_type": "markdown",
   "metadata": {},
   "source": [
    "### Data Vizualization"
   ]
  },
  {
   "cell_type": "code",
   "execution_count": 174,
   "metadata": {},
   "outputs": [
    {
     "data": {
      "image/png": "[encoded data removed]",
      "text/plain": [
       "<Figure size 720x720 with 9 Axes>"
      ]
     },
     "metadata": {
      "needs_background": "light"
     },
     "output_type": "display_data"
    }
   ],
   "source": [
    "viz = df_final[['CYLINDERS','ENGINESIZE','CO2EMISSIONS','FUELCONSUMPTION_COMB', 'FUELCONSUMPTION_CITY',\n",
    "                'FUELCONSUMPTION_HWY', 'FUELCONSUMPTION_COMB_MPG']]\n",
    "viz.hist(figsize=(10,10))\n",
    "plt.show()"
   ]
  },
  {
   "cell_type": "markdown",
   "metadata": {},
   "source": [
    "As I did log transformation earlier my numerical data are normal distributed. "
   ]
  },
  {
   "cell_type": "markdown",
   "metadata": {},
   "source": [
    "Now, let's plot each of these features against the Emission, to see how linear their relationship is:"
   ]
  },
  {
   "cell_type": "code",
   "execution_count": 175,
   "metadata": {},
   "outputs": [
    {
     "data": {
      "text/plain": [
       "Text(0, 0.5, 'Emission')"
      ]
     },
     "execution_count": 175,
     "metadata": {},
     "output_type": "execute_result"
    },
    {
     "data": {
      "image/png": "[encoded data removed]",
      "text/plain": [
       "<Figure size 1728x1440 with 6 Axes>"
      ]
     },
     "metadata": {
      "needs_background": "light"
     },
     "output_type": "display_data"
    }
   ],
   "source": [
    "plt.figure(figsize=(24,20))\n",
    "plt.suptitle('Relationship between target and features variables', size=25)\n",
    "\n",
    "# first scatter\n",
    "plt.subplot(3,2,1)\n",
    "plt.scatter(df_final.ENGINESIZE, df_final.CO2EMISSIONS,  color='blue')\n",
    "plt.xlabel(\"Engine size\")\n",
    "plt.ylabel(\"Emission\")\n",
    "\n",
    "# second scatter\n",
    "plt.subplot(3,2,2)\n",
    "plt.scatter(df_final.CYLINDERS, df_final.CO2EMISSIONS,  color='green')\n",
    "plt.xlabel(\" Number of Cylinders\")\n",
    "plt.ylabel(\"Emission\")\n",
    "\n",
    "# 3rd scatter \n",
    "plt.subplot(3,2,3)\n",
    "plt.scatter(df_final.FUELCONSUMPTION_COMB, df_final.CO2EMISSIONS,  color='orange')\n",
    "plt.xlabel(\"FUELCONSUMPTION_COMB\")\n",
    "plt.ylabel(\"Emission\")\n",
    "\n",
    "# 4th scatter \n",
    "plt.subplot(3,2,4)\n",
    "plt.scatter(df_final.FUELCONSUMPTION_CITY, df_final.CO2EMISSIONS,  color='purple')\n",
    "plt.xlabel(\"FUELCONSUMPTION_CITY\")\n",
    "plt.ylabel(\"Emission\")\n",
    "\n",
    "# 5th scatter\n",
    "plt.subplot(3,2,5)\n",
    "plt.scatter(df_final.FUELCONSUMPTION_HWY, df_final.CO2EMISSIONS,  color='red')\n",
    "plt.xlabel(\"FUELCONSUMPTION_HWY\")\n",
    "plt.ylabel(\"Emission\")\n",
    "\n",
    "# 6th scatter \n",
    "plt.subplot(3,2,6)\n",
    "plt.scatter(df_final.FUELCONSUMPTION_COMB_MPG, df_final.CO2EMISSIONS,  color='black')\n",
    "plt.xlabel(\"FUELCONSUMPTION_COMB_MPG\")\n",
    "plt.ylabel(\"Emission\")"
   ]
  },
  {
   "cell_type": "code",
   "execution_count": 176,
   "metadata": {},
   "outputs": [],
   "source": [
    "corr = df_final.corr()"
   ]
  },
  {
   "cell_type": "code",
   "execution_count": 177,
   "metadata": {},
   "outputs": [
    {
     "data": {
      "text/plain": [
       "Text(0.5, 1.0, 'Heatmap for all variables')"
      ]
     },
     "execution_count": 177,
     "metadata": {},
     "output_type": "execute_result"
    },
    {
     "data": {
      "image/png": "[encoded data removed]",
      "text/plain": [
       "<Figure size 1008x720 with 2 Axes>"
      ]
     },
     "metadata": {
      "needs_background": "light"
     },
     "output_type": "display_data"
    }
   ],
   "source": [
    "plt.figure(figsize=(14,10))\n",
    "sns.heatmap(corr)\n",
    "plt.title('Heatmap for all variables', size=15)"
   ]
  },
  {
   "cell_type": "markdown",
   "metadata": {},
   "source": [
    "## Pre-processing "
   ]
  },
  {
   "cell_type": "markdown",
   "metadata": {},
   "source": [
    "### Generate X and target variable Y "
   ]
  },
  {
   "cell_type": "code",
   "execution_count": 178,
   "metadata": {},
   "outputs": [],
   "source": [
    "y_col = 'CO2EMISSIONS'\n",
    "\n",
    "X = df_final.drop(y_col, axis=1)\n",
    "y = df_final[y_col]"
   ]
  },
  {
   "cell_type": "markdown",
   "metadata": {},
   "source": [
    "### RMSE function"
   ]
  },
  {
   "cell_type": "markdown",
   "metadata": {},
   "source": [
    "function `rmse` takes in truth and prediction values and returns the root-mean-squared error."
   ]
  },
  {
   "cell_type": "code",
   "execution_count": 179,
   "metadata": {},
   "outputs": [],
   "source": [
    "def rmse(ytrue, ypredicted):\n",
    "    return np.sqrt(mean_squared_error(ytrue, ypredicted))"
   ]
  },
  {
   "cell_type": "markdown",
   "metadata": {},
   "source": [
    "### Linear Regression Model"
   ]
  },
  {
   "cell_type": "markdown",
   "metadata": {},
   "source": [
    "#### Cross validation"
   ]
  },
  {
   "cell_type": "code",
   "execution_count": 180,
   "metadata": {},
   "outputs": [],
   "source": [
    "kf = KFold(shuffle=True, random_state=72018, n_splits=3)"
   ]
  },
  {
   "cell_type": "code",
   "execution_count": 181,
   "metadata": {},
   "outputs": [
    {
     "name": "stdout",
     "output_type": "stream",
     "text": [
      "Train index: [ 2  3  5  6  7  8 10 11 12 13] 711\n",
      "Test index: [ 0  1  4  9 16 17 23 30 32 33] 356\n",
      "\n",
      "Train index: [ 0  1  3  4  5  7  8  9 10 11] 711\n",
      "Test index: [ 2  6 12 15 19 24 25 26 27 29] 356\n",
      "\n",
      "Train index: [ 0  1  2  4  6  9 12 15 16 17] 712\n",
      "Test index: [ 3  5  7  8 10 11 13 14 18 20] 355\n",
      "\n"
     ]
    }
   ],
   "source": [
    "for train_index, test_index in kf.split(X):\n",
    "    print(\"Train index:\", train_index[:10], len(train_index))\n",
    "    print(\"Test index:\",test_index[:10], len(test_index))\n",
    "    print('')"
   ]
  },
  {
   "cell_type": "code",
   "execution_count": 182,
   "metadata": {},
   "outputs": [
    {
     "data": {
      "text/plain": [
       "[0.9957659413304515, 0.9938313150050585, 0.9960933527041865]"
      ]
     },
     "execution_count": 182,
     "metadata": {},
     "output_type": "execute_result"
    }
   ],
   "source": [
    "scores = []\n",
    "lr = LinearRegression()\n",
    "\n",
    "for train_index, test_index in kf.split(X):\n",
    "    X_train, X_test, y_train, y_test = (X.iloc[train_index, :], \n",
    "                                        X.iloc[test_index, :], \n",
    "                                        y[train_index], \n",
    "                                        y[test_index])\n",
    "    \n",
    "    lr.fit(X_train, y_train)\n",
    "        \n",
    "    y_pred = lr.predict(X_test)\n",
    "\n",
    "    score = r2_score(y_test.values, y_pred)\n",
    "    \n",
    "    scores.append(score)\n",
    "    \n",
    "scores"
   ]
  },
  {
   "cell_type": "markdown",
   "metadata": {},
   "source": [
    "**How about scaling? Is the result will be better?**"
   ]
  },
  {
   "cell_type": "code",
   "execution_count": 183,
   "metadata": {},
   "outputs": [
    {
     "data": {
      "text/plain": [
       "[0.9957728309612668, 0.9938313150050582, 0.9960989397590061]"
      ]
     },
     "execution_count": 183,
     "metadata": {},
     "output_type": "execute_result"
    }
   ],
   "source": [
    "scores = []\n",
    "\n",
    "lr = LinearRegression()\n",
    "s = StandardScaler()\n",
    "\n",
    "for train_index, test_index in kf.split(X):\n",
    "    X_train, X_test, y_train, y_test = (X.iloc[train_index, :], \n",
    "                                        X.iloc[test_index, :], \n",
    "                                        y[train_index], \n",
    "                                        y[test_index])\n",
    "    \n",
    "    X_train_s = s.fit_transform(X_train)\n",
    "    \n",
    "    lr.fit(X_train_s, y_train)\n",
    "    \n",
    "    X_test_s = s.transform(X_test)\n",
    "    \n",
    "    y_pred = lr.predict(X_test_s)\n",
    "\n",
    "    score = r2_score(y_test.values, y_pred)\n",
    "    \n",
    "    scores.append(score)\n",
    "\n",
    "scores"
   ]
  },
  {
   "cell_type": "markdown",
   "metadata": {},
   "source": [
    "**For vanilla linear regression with no regularization, scaling actually doesn't matter for performance.**"
   ]
  },
  {
   "cell_type": "markdown",
   "metadata": {},
   "source": [
    "#### `Pipeline` and `cross_val_predict`"
   ]
  },
  {
   "cell_type": "code",
   "execution_count": 184,
   "metadata": {},
   "outputs": [],
   "source": [
    "s = StandardScaler()\n",
    "lr = LinearRegression()\n",
    "\n",
    "\n",
    "estimator = Pipeline([(\"scaler\", s),\n",
    "                      (\"regression\", lr)])"
   ]
  },
  {
   "cell_type": "markdown",
   "metadata": {},
   "source": [
    "`cross_val_predict` is a function that does K-fold cross validation for us, appropriately fitting and transforming at every step of the way."
   ]
  },
  {
   "cell_type": "code",
   "execution_count": 185,
   "metadata": {},
   "outputs": [],
   "source": [
    "predictions = cross_val_predict(estimator, X, y, cv=kf)"
   ]
  },
  {
   "cell_type": "code",
   "execution_count": 186,
   "metadata": {},
   "outputs": [
    {
     "data": {
      "text/plain": [
       "0.9952706309216138"
      ]
     },
     "execution_count": 186,
     "metadata": {},
     "output_type": "execute_result"
    }
   ],
   "source": [
    "r2_score(y, predictions)"
   ]
  },
  {
   "cell_type": "code",
   "execution_count": 187,
   "metadata": {},
   "outputs": [
    {
     "data": {
      "text/plain": [
       "0.9952343619084436"
      ]
     },
     "execution_count": 187,
     "metadata": {},
     "output_type": "execute_result"
    }
   ],
   "source": [
    "np.mean(scores) # almost identical!"
   ]
  },
  {
   "cell_type": "markdown",
   "metadata": {},
   "source": [
    "#### Linear Regression with train_test_split"
   ]
  },
  {
   "cell_type": "code",
   "execution_count": 188,
   "metadata": {},
   "outputs": [],
   "source": [
    "X_train, X_test, y_train, y_test = train_test_split(X, y, test_size=0.3, \n",
    "                                                    random_state=72018)"
   ]
  },
  {
   "cell_type": "code",
   "execution_count": 189,
   "metadata": {},
   "outputs": [
    {
     "data": {
      "text/plain": [
       "0.9954687232745988"
      ]
     },
     "execution_count": 189,
     "metadata": {},
     "output_type": "execute_result"
    }
   ],
   "source": [
    "s = StandardScaler()\n",
    "lr_s = LinearRegression()\n",
    "X_train_s = s.fit_transform(X_train)\n",
    "lr_s.fit(X_train_s, y_train)\n",
    "X_test_s = s.transform(X_test)\n",
    "y_pred_s = lr_s.predict(X_test_s)\n",
    "linear_r2 = r2_score(y_pred_s, y_test)\n",
    "linear_r2"
   ]
  },
  {
   "cell_type": "code",
   "execution_count": 190,
   "metadata": {},
   "outputs": [
    {
     "name": "stdout",
     "output_type": "stream",
     "text": [
      "4.066631756734569\n"
     ]
    }
   ],
   "source": [
    "linear_reg_rmse = rmse(y_test, y_pred_s)\n",
    "print(linear_reg_rmse)"
   ]
  },
  {
   "cell_type": "code",
   "execution_count": 191,
   "metadata": {},
   "outputs": [
    {
     "data": {
      "text/plain": [
       "2.541667581098224"
      ]
     },
     "execution_count": 191,
     "metadata": {},
     "output_type": "execute_result"
    }
   ],
   "source": [
    "linear_mae = mean_absolute_error(y_test, y_pred_s)\n",
    "linear_mae"
   ]
  },
  {
   "cell_type": "code",
   "execution_count": 192,
   "metadata": {},
   "outputs": [
    {
     "data": {
      "text/plain": [
       "16.53749384488209"
      ]
     },
     "execution_count": 192,
     "metadata": {},
     "output_type": "execute_result"
    }
   ],
   "source": [
    "linear_mse = mean_squared_error(y_test, y_pred_s)\n",
    "linear_mse"
   ]
  },
  {
   "cell_type": "code",
   "execution_count": 193,
   "metadata": {},
   "outputs": [
    {
     "data": {
      "image/png": "[encoded data removed]",
      "text/plain": [
       "<Figure size 432x432 with 1 Axes>"
      ]
     },
     "metadata": {
      "needs_background": "light"
     },
     "output_type": "display_data"
    }
   ],
   "source": [
    "f = plt.figure(figsize=(6,6))\n",
    "ax = plt.axes()\n",
    "\n",
    "ax.plot(y_test, y_pred_s, color='red',\n",
    "         marker='o', ls='', ms=3.0)\n",
    "\n",
    "lim = (0, y_test.max())\n",
    "\n",
    "ax.set(xlabel='Actual Value', \n",
    "       ylabel='Predicted Value', \n",
    "       xlim=lim,\n",
    "       ylim=lim,\n",
    "       title='Linear Regression Results')\n",
    "plt.show()"
   ]
  },
  {
   "cell_type": "code",
   "execution_count": 194,
   "metadata": {},
   "outputs": [
    {
     "data": {
      "text/plain": [
       "[('ENGINESIZE', 1.337410597793523),\n",
       " ('CYLINDERS', -0.8729883290032099),\n",
       " ('FUELCONSUMPTION_CITY', -13.494881339699266),\n",
       " ('FUELCONSUMPTION_HWY', -5.436178911240496),\n",
       " ('FUELCONSUMPTION_COMB', 131.61622924873762),\n",
       " ('FUELCONSUMPTION_COMB_MPG', 37.83692240072986),\n",
       " ('VEHICLECLASS_0', 0.548900622125031),\n",
       " ('VEHICLECLASS_1', 0.02403412530929594),\n",
       " ('VEHICLECLASS_2', -0.06490491227355089),\n",
       " ('VEHICLECLASS_3', 0.017504776544011058),\n",
       " ('VEHICLECLASS_4', -0.35058768748265123),\n",
       " ('VEHICLECLASS_5', -0.4243024995774005),\n",
       " ('VEHICLECLASS_6', -0.300863741056421),\n",
       " ('VEHICLECLASS_7', -0.19075368555007233),\n",
       " ('VEHICLECLASS_8', -0.11365748909968212),\n",
       " ('VEHICLECLASS_9', -0.14533274136694674),\n",
       " ('VEHICLECLASS_10', 0.08202882781235173),\n",
       " ('VEHICLECLASS_11', -0.7075049822481307),\n",
       " ('VEHICLECLASS_12', -0.0577093272858864),\n",
       " ('VEHICLECLASS_13', 0.46406985785895366),\n",
       " ('VEHICLECLASS_14', -0.18221332181076755),\n",
       " ('VEHICLECLASS_15', 1.1198486645200831),\n",
       " ('FUELTYPE_0', 7.643966126536576),\n",
       " ('FUELTYPE_1', -27.369105816708192),\n",
       " ('FUELTYPE_2', 7.005035130315386),\n",
       " ('FUELTYPE_3', 6.28495710256093)]"
      ]
     },
     "execution_count": 194,
     "metadata": {},
     "output_type": "execute_result"
    }
   ],
   "source": [
    "# pair the feature names with the coefficients\n",
    "list(zip(X.columns, lr_s.coef_))"
   ]
  },
  {
   "cell_type": "code",
   "execution_count": 195,
   "metadata": {},
   "outputs": [
    {
     "data": {
      "text/plain": [
       "257.479892761394"
      ]
     },
     "execution_count": 195,
     "metadata": {},
     "output_type": "execute_result"
    }
   ],
   "source": [
    "lr_s.intercept_"
   ]
  },
  {
   "cell_type": "markdown",
   "metadata": {},
   "source": [
    "## Hyperparameter tuning"
   ]
  },
  {
   "cell_type": "markdown",
   "metadata": {},
   "source": [
    "Hyperparameter tuning involves using cross validation (or train-test split) to determine which hyperparameters are most likely to generate a model that generalizes well outside of your sample."
   ]
  },
  {
   "cell_type": "markdown",
   "metadata": {},
   "source": [
    "### Lassso Regression"
   ]
  },
  {
   "cell_type": "code",
   "execution_count": 196,
   "metadata": {},
   "outputs": [
    {
     "data": {
      "text/plain": [
       "array([0.001     , 0.00143845, 0.00206914, 0.00297635, 0.00428133,\n",
       "       0.00615848, 0.00885867, 0.01274275, 0.01832981, 0.02636651,\n",
       "       0.0379269 , 0.05455595, 0.078476  , 0.11288379, 0.16237767,\n",
       "       0.23357215, 0.33598183, 0.48329302, 0.6951928 , 1.        ])"
      ]
     },
     "execution_count": 196,
     "metadata": {},
     "output_type": "execute_result"
    }
   ],
   "source": [
    "alphas = np.geomspace(0.001, 1.0, 20)\n",
    "alphas"
   ]
  },
  {
   "cell_type": "code",
   "execution_count": 197,
   "metadata": {},
   "outputs": [],
   "source": [
    "# The code below tunes the alpha hyperparameter for Lasso regression\n",
    "scores = []\n",
    "coefs = []\n",
    "for alpha in alphas:\n",
    "    las = Lasso(alpha=alpha, max_iter=100000)\n",
    "    \n",
    "    estimator = Pipeline([\n",
    "        (\"scaler\", s),\n",
    "        (\"lasso_regression\", las)])\n",
    "\n",
    "    predictions = cross_val_predict(estimator, X, y, cv = kf)\n",
    "    \n",
    "    score = r2_score(y, predictions)\n",
    "    \n",
    "    scores.append(score)"
   ]
  },
  {
   "cell_type": "code",
   "execution_count": 198,
   "metadata": {},
   "outputs": [
    {
     "data": {
      "text/plain": [
       "[(0.001, 0.995255719405291),\n",
       " (0.0014384498882876629, 0.9952504159475843),\n",
       " (0.00206913808111479, 0.9952371447538183),\n",
       " (0.002976351441631319, 0.9952081575379459),\n",
       " (0.004281332398719396, 0.9951803164459696),\n",
       " (0.006158482110660267, 0.9951830063771825),\n",
       " (0.008858667904100823, 0.9951859630464215),\n",
       " (0.012742749857031334, 0.9951887222509407),\n",
       " (0.018329807108324356, 0.9951885085018991),\n",
       " (0.026366508987303583, 0.9951799553390182),\n",
       " (0.0379269019073225, 0.9951508307435817),\n",
       " (0.05455594781168517, 0.9950756847874418),\n",
       " (0.07847599703514611, 0.9949075897519697),\n",
       " (0.11288378916846883, 0.994545673389658),\n",
       " (0.1623776739188721, 0.9937831570045181),\n",
       " (0.23357214690901212, 0.9921749923771687),\n",
       " (0.3359818286283781, 0.9888915259939968),\n",
       " (0.4832930238571752, 0.987238596497235),\n",
       " (0.6951927961775606, 0.9866576605169078),\n",
       " (1.0, 0.985494476442807)]"
      ]
     },
     "execution_count": 198,
     "metadata": {},
     "output_type": "execute_result"
    }
   ],
   "source": [
    "list(zip(alphas,scores))"
   ]
  },
  {
   "cell_type": "code",
   "execution_count": 199,
   "metadata": {},
   "outputs": [
    {
     "data": {
      "image/png": "[encoded data removed]",
      "text/plain": [
       "<Figure size 720x432 with 1 Axes>"
      ]
     },
     "metadata": {
      "needs_background": "light"
     },
     "output_type": "display_data"
    }
   ],
   "source": [
    "plt.figure(figsize=(10,6))\n",
    "plt.semilogx(alphas, scores, '-o', color='darkgreen')\n",
    "plt.xlabel('$\\\\alpha$', size=15)\n",
    "plt.ylabel('$R^2$', size=15)\n",
    "plt.title('Different alpha values and their R^2 scores in Lasso Regression Model', size=15)\n",
    "plt.show()"
   ]
  },
  {
   "cell_type": "markdown",
   "metadata": {},
   "source": [
    "### Add Polynomial Features to Pipeline and use Grid Search CV"
   ]
  },
  {
   "cell_type": "markdown",
   "metadata": {},
   "source": [
    "#### Lasso "
   ]
  },
  {
   "cell_type": "code",
   "execution_count": 200,
   "metadata": {},
   "outputs": [],
   "source": [
    "# Same estimator as before\n",
    "estimator = Pipeline([(\"scaler\", StandardScaler()),\n",
    "        (\"polynomial_features\", PolynomialFeatures()),\n",
    "        (\"lasso_regression\", Lasso())])\n",
    "\n",
    "params = {\n",
    "    'polynomial_features__degree': [1, 2, 3],\n",
    "    'lasso_regression__alpha': np.geomspace(0.06, 6.0, 20)\n",
    "}\n",
    "\n",
    "grid = GridSearchCV(estimator, params, cv=kf)"
   ]
  },
  {
   "cell_type": "code",
   "execution_count": 201,
   "metadata": {},
   "outputs": [
    {
     "name": "stderr",
     "output_type": "stream",
     "text": [
      "C:\\Users\\pauli\\anaconda3\\lib\\site-packages\\sklearn\\linear_model\\_coordinate_descent.py:529: ConvergenceWarning: Objective did not converge. You might want to increase the number of iterations. Duality gap: 849.8178180323303, tolerance: 290.98595302391\n",
      "  model = cd_fast.enet_coordinate_descent(\n",
      "C:\\Users\\pauli\\anaconda3\\lib\\site-packages\\sklearn\\linear_model\\_coordinate_descent.py:529: ConvergenceWarning: Objective did not converge. You might want to increase the number of iterations. Duality gap: 961.732683448663, tolerance: 289.1396610407877\n",
      "  model = cd_fast.enet_coordinate_descent(\n",
      "C:\\Users\\pauli\\anaconda3\\lib\\site-packages\\sklearn\\linear_model\\_coordinate_descent.py:529: ConvergenceWarning: Objective did not converge. You might want to increase the number of iterations. Duality gap: 931.0153200106997, tolerance: 275.5085011235955\n",
      "  model = cd_fast.enet_coordinate_descent(\n",
      "C:\\Users\\pauli\\anaconda3\\lib\\site-packages\\sklearn\\linear_model\\_coordinate_descent.py:529: ConvergenceWarning: Objective did not converge. You might want to increase the number of iterations. Duality gap: 421.92018235204506, tolerance: 290.98595302391\n",
      "  model = cd_fast.enet_coordinate_descent(\n",
      "C:\\Users\\pauli\\anaconda3\\lib\\site-packages\\sklearn\\linear_model\\_coordinate_descent.py:529: ConvergenceWarning: Objective did not converge. You might want to increase the number of iterations. Duality gap: 395.59551872413334, tolerance: 289.1396610407877\n",
      "  model = cd_fast.enet_coordinate_descent(\n",
      "C:\\Users\\pauli\\anaconda3\\lib\\site-packages\\sklearn\\linear_model\\_coordinate_descent.py:529: ConvergenceWarning: Objective did not converge. You might want to increase the number of iterations. Duality gap: 402.3233130087541, tolerance: 275.5085011235955\n",
      "  model = cd_fast.enet_coordinate_descent(\n",
      "C:\\Users\\pauli\\anaconda3\\lib\\site-packages\\sklearn\\linear_model\\_coordinate_descent.py:529: ConvergenceWarning: Objective did not converge. You might want to increase the number of iterations. Duality gap: 1691.68121300445, tolerance: 290.98595302391\n",
      "  model = cd_fast.enet_coordinate_descent(\n",
      "C:\\Users\\pauli\\anaconda3\\lib\\site-packages\\sklearn\\linear_model\\_coordinate_descent.py:529: ConvergenceWarning: Objective did not converge. You might want to increase the number of iterations. Duality gap: 2197.2478673849173, tolerance: 289.1396610407877\n",
      "  model = cd_fast.enet_coordinate_descent(\n",
      "C:\\Users\\pauli\\anaconda3\\lib\\site-packages\\sklearn\\linear_model\\_coordinate_descent.py:529: ConvergenceWarning: Objective did not converge. You might want to increase the number of iterations. Duality gap: 2938.1401623689258, tolerance: 275.5085011235955\n",
      "  model = cd_fast.enet_coordinate_descent(\n",
      "C:\\Users\\pauli\\anaconda3\\lib\\site-packages\\sklearn\\linear_model\\_coordinate_descent.py:529: ConvergenceWarning: Objective did not converge. You might want to increase the number of iterations. Duality gap: 825.8180574937142, tolerance: 290.98595302391\n",
      "  model = cd_fast.enet_coordinate_descent(\n",
      "C:\\Users\\pauli\\anaconda3\\lib\\site-packages\\sklearn\\linear_model\\_coordinate_descent.py:529: ConvergenceWarning: Objective did not converge. You might want to increase the number of iterations. Duality gap: 948.4276198415173, tolerance: 289.1396610407877\n",
      "  model = cd_fast.enet_coordinate_descent(\n",
      "C:\\Users\\pauli\\anaconda3\\lib\\site-packages\\sklearn\\linear_model\\_coordinate_descent.py:529: ConvergenceWarning: Objective did not converge. You might want to increase the number of iterations. Duality gap: 908.672531699407, tolerance: 275.5085011235955\n",
      "  model = cd_fast.enet_coordinate_descent(\n",
      "C:\\Users\\pauli\\anaconda3\\lib\\site-packages\\sklearn\\linear_model\\_coordinate_descent.py:529: ConvergenceWarning: Objective did not converge. You might want to increase the number of iterations. Duality gap: 444.3655621873479, tolerance: 290.98595302391\n",
      "  model = cd_fast.enet_coordinate_descent(\n",
      "C:\\Users\\pauli\\anaconda3\\lib\\site-packages\\sklearn\\linear_model\\_coordinate_descent.py:529: ConvergenceWarning: Objective did not converge. You might want to increase the number of iterations. Duality gap: 417.8421278566434, tolerance: 289.1396610407877\n",
      "  model = cd_fast.enet_coordinate_descent(\n",
      "C:\\Users\\pauli\\anaconda3\\lib\\site-packages\\sklearn\\linear_model\\_coordinate_descent.py:529: ConvergenceWarning: Objective did not converge. You might want to increase the number of iterations. Duality gap: 432.22261250703866, tolerance: 275.5085011235955\n",
      "  model = cd_fast.enet_coordinate_descent(\n",
      "C:\\Users\\pauli\\anaconda3\\lib\\site-packages\\sklearn\\linear_model\\_coordinate_descent.py:529: ConvergenceWarning: Objective did not converge. You might want to increase the number of iterations. Duality gap: 3258.6172956396367, tolerance: 290.98595302391\n",
      "  model = cd_fast.enet_coordinate_descent(\n",
      "C:\\Users\\pauli\\anaconda3\\lib\\site-packages\\sklearn\\linear_model\\_coordinate_descent.py:529: ConvergenceWarning: Objective did not converge. You might want to increase the number of iterations. Duality gap: 3363.1216415240706, tolerance: 289.1396610407877\n",
      "  model = cd_fast.enet_coordinate_descent(\n",
      "C:\\Users\\pauli\\anaconda3\\lib\\site-packages\\sklearn\\linear_model\\_coordinate_descent.py:529: ConvergenceWarning: Objective did not converge. You might want to increase the number of iterations. Duality gap: 3813.090989333937, tolerance: 275.5085011235955\n",
      "  model = cd_fast.enet_coordinate_descent(\n",
      "C:\\Users\\pauli\\anaconda3\\lib\\site-packages\\sklearn\\linear_model\\_coordinate_descent.py:529: ConvergenceWarning: Objective did not converge. You might want to increase the number of iterations. Duality gap: 804.2690930937861, tolerance: 290.98595302391\n",
      "  model = cd_fast.enet_coordinate_descent(\n",
      "C:\\Users\\pauli\\anaconda3\\lib\\site-packages\\sklearn\\linear_model\\_coordinate_descent.py:529: ConvergenceWarning: Objective did not converge. You might want to increase the number of iterations. Duality gap: 935.0613371049767, tolerance: 289.1396610407877\n",
      "  model = cd_fast.enet_coordinate_descent(\n",
      "C:\\Users\\pauli\\anaconda3\\lib\\site-packages\\sklearn\\linear_model\\_coordinate_descent.py:529: ConvergenceWarning: Objective did not converge. You might want to increase the number of iterations. Duality gap: 888.657287850263, tolerance: 275.5085011235955\n",
      "  model = cd_fast.enet_coordinate_descent(\n",
      "C:\\Users\\pauli\\anaconda3\\lib\\site-packages\\sklearn\\linear_model\\_coordinate_descent.py:529: ConvergenceWarning: Objective did not converge. You might want to increase the number of iterations. Duality gap: 473.0283667327276, tolerance: 290.98595302391\n",
      "  model = cd_fast.enet_coordinate_descent(\n",
      "C:\\Users\\pauli\\anaconda3\\lib\\site-packages\\sklearn\\linear_model\\_coordinate_descent.py:529: ConvergenceWarning: Objective did not converge. You might want to increase the number of iterations. Duality gap: 446.9722869339753, tolerance: 289.1396610407877\n",
      "  model = cd_fast.enet_coordinate_descent(\n",
      "C:\\Users\\pauli\\anaconda3\\lib\\site-packages\\sklearn\\linear_model\\_coordinate_descent.py:529: ConvergenceWarning: Objective did not converge. You might want to increase the number of iterations. Duality gap: 436.14894332802623, tolerance: 275.5085011235955\n",
      "  model = cd_fast.enet_coordinate_descent(\n",
      "C:\\Users\\pauli\\anaconda3\\lib\\site-packages\\sklearn\\linear_model\\_coordinate_descent.py:529: ConvergenceWarning: Objective did not converge. You might want to increase the number of iterations. Duality gap: 4001.0187304831766, tolerance: 290.98595302391\n",
      "  model = cd_fast.enet_coordinate_descent(\n",
      "C:\\Users\\pauli\\anaconda3\\lib\\site-packages\\sklearn\\linear_model\\_coordinate_descent.py:529: ConvergenceWarning: Objective did not converge. You might want to increase the number of iterations. Duality gap: 4263.841734017259, tolerance: 289.1396610407877\n",
      "  model = cd_fast.enet_coordinate_descent(\n",
      "C:\\Users\\pauli\\anaconda3\\lib\\site-packages\\sklearn\\linear_model\\_coordinate_descent.py:529: ConvergenceWarning: Objective did not converge. You might want to increase the number of iterations. Duality gap: 4714.971828002998, tolerance: 275.5085011235955\n",
      "  model = cd_fast.enet_coordinate_descent(\n",
      "C:\\Users\\pauli\\anaconda3\\lib\\site-packages\\sklearn\\linear_model\\_coordinate_descent.py:529: ConvergenceWarning: Objective did not converge. You might want to increase the number of iterations. Duality gap: 781.8465735187874, tolerance: 290.98595302391\n",
      "  model = cd_fast.enet_coordinate_descent(\n",
      "C:\\Users\\pauli\\anaconda3\\lib\\site-packages\\sklearn\\linear_model\\_coordinate_descent.py:529: ConvergenceWarning: Objective did not converge. You might want to increase the number of iterations. Duality gap: 931.7754216844787, tolerance: 289.1396610407877\n",
      "  model = cd_fast.enet_coordinate_descent(\n",
      "C:\\Users\\pauli\\anaconda3\\lib\\site-packages\\sklearn\\linear_model\\_coordinate_descent.py:529: ConvergenceWarning: Objective did not converge. You might want to increase the number of iterations. Duality gap: 875.5144067040474, tolerance: 275.5085011235955\n",
      "  model = cd_fast.enet_coordinate_descent(\n"
     ]
    },
    {
     "name": "stderr",
     "output_type": "stream",
     "text": [
      "C:\\Users\\pauli\\anaconda3\\lib\\site-packages\\sklearn\\linear_model\\_coordinate_descent.py:529: ConvergenceWarning: Objective did not converge. You might want to increase the number of iterations. Duality gap: 508.24357748164357, tolerance: 290.98595302391\n",
      "  model = cd_fast.enet_coordinate_descent(\n",
      "C:\\Users\\pauli\\anaconda3\\lib\\site-packages\\sklearn\\linear_model\\_coordinate_descent.py:529: ConvergenceWarning: Objective did not converge. You might want to increase the number of iterations. Duality gap: 475.85937346986634, tolerance: 289.1396610407877\n",
      "  model = cd_fast.enet_coordinate_descent(\n",
      "C:\\Users\\pauli\\anaconda3\\lib\\site-packages\\sklearn\\linear_model\\_coordinate_descent.py:529: ConvergenceWarning: Objective did not converge. You might want to increase the number of iterations. Duality gap: 472.99380559611984, tolerance: 275.5085011235955\n",
      "  model = cd_fast.enet_coordinate_descent(\n",
      "C:\\Users\\pauli\\anaconda3\\lib\\site-packages\\sklearn\\linear_model\\_coordinate_descent.py:529: ConvergenceWarning: Objective did not converge. You might want to increase the number of iterations. Duality gap: 1499.77008471805, tolerance: 290.98595302391\n",
      "  model = cd_fast.enet_coordinate_descent(\n",
      "C:\\Users\\pauli\\anaconda3\\lib\\site-packages\\sklearn\\linear_model\\_coordinate_descent.py:529: ConvergenceWarning: Objective did not converge. You might want to increase the number of iterations. Duality gap: 1644.3504774224898, tolerance: 289.1396610407877\n",
      "  model = cd_fast.enet_coordinate_descent(\n",
      "C:\\Users\\pauli\\anaconda3\\lib\\site-packages\\sklearn\\linear_model\\_coordinate_descent.py:529: ConvergenceWarning: Objective did not converge. You might want to increase the number of iterations. Duality gap: 1840.2535476254047, tolerance: 275.5085011235955\n",
      "  model = cd_fast.enet_coordinate_descent(\n",
      "C:\\Users\\pauli\\anaconda3\\lib\\site-packages\\sklearn\\linear_model\\_coordinate_descent.py:529: ConvergenceWarning: Objective did not converge. You might want to increase the number of iterations. Duality gap: 753.7093841290662, tolerance: 290.98595302391\n",
      "  model = cd_fast.enet_coordinate_descent(\n",
      "C:\\Users\\pauli\\anaconda3\\lib\\site-packages\\sklearn\\linear_model\\_coordinate_descent.py:529: ConvergenceWarning: Objective did not converge. You might want to increase the number of iterations. Duality gap: 928.150548839556, tolerance: 289.1396610407877\n",
      "  model = cd_fast.enet_coordinate_descent(\n",
      "C:\\Users\\pauli\\anaconda3\\lib\\site-packages\\sklearn\\linear_model\\_coordinate_descent.py:529: ConvergenceWarning: Objective did not converge. You might want to increase the number of iterations. Duality gap: 852.0875248168813, tolerance: 275.5085011235955\n",
      "  model = cd_fast.enet_coordinate_descent(\n",
      "C:\\Users\\pauli\\anaconda3\\lib\\site-packages\\sklearn\\linear_model\\_coordinate_descent.py:529: ConvergenceWarning: Objective did not converge. You might want to increase the number of iterations. Duality gap: 542.7461257107511, tolerance: 290.98595302391\n",
      "  model = cd_fast.enet_coordinate_descent(\n",
      "C:\\Users\\pauli\\anaconda3\\lib\\site-packages\\sklearn\\linear_model\\_coordinate_descent.py:529: ConvergenceWarning: Objective did not converge. You might want to increase the number of iterations. Duality gap: 474.6180515068629, tolerance: 289.1396610407877\n",
      "  model = cd_fast.enet_coordinate_descent(\n",
      "C:\\Users\\pauli\\anaconda3\\lib\\site-packages\\sklearn\\linear_model\\_coordinate_descent.py:529: ConvergenceWarning: Objective did not converge. You might want to increase the number of iterations. Duality gap: 490.2921037488795, tolerance: 275.5085011235955\n",
      "  model = cd_fast.enet_coordinate_descent(\n",
      "C:\\Users\\pauli\\anaconda3\\lib\\site-packages\\sklearn\\linear_model\\_coordinate_descent.py:529: ConvergenceWarning: Objective did not converge. You might want to increase the number of iterations. Duality gap: 1367.4205375905972, tolerance: 290.98595302391\n",
      "  model = cd_fast.enet_coordinate_descent(\n",
      "C:\\Users\\pauli\\anaconda3\\lib\\site-packages\\sklearn\\linear_model\\_coordinate_descent.py:529: ConvergenceWarning: Objective did not converge. You might want to increase the number of iterations. Duality gap: 1808.4929444920099, tolerance: 289.1396610407877\n",
      "  model = cd_fast.enet_coordinate_descent(\n",
      "C:\\Users\\pauli\\anaconda3\\lib\\site-packages\\sklearn\\linear_model\\_coordinate_descent.py:529: ConvergenceWarning: Objective did not converge. You might want to increase the number of iterations. Duality gap: 1775.471271725704, tolerance: 275.5085011235955\n",
      "  model = cd_fast.enet_coordinate_descent(\n",
      "C:\\Users\\pauli\\anaconda3\\lib\\site-packages\\sklearn\\linear_model\\_coordinate_descent.py:529: ConvergenceWarning: Objective did not converge. You might want to increase the number of iterations. Duality gap: 710.9405957012059, tolerance: 290.98595302391\n",
      "  model = cd_fast.enet_coordinate_descent(\n",
      "C:\\Users\\pauli\\anaconda3\\lib\\site-packages\\sklearn\\linear_model\\_coordinate_descent.py:529: ConvergenceWarning: Objective did not converge. You might want to increase the number of iterations. Duality gap: 909.2994779760884, tolerance: 289.1396610407877\n",
      "  model = cd_fast.enet_coordinate_descent(\n",
      "C:\\Users\\pauli\\anaconda3\\lib\\site-packages\\sklearn\\linear_model\\_coordinate_descent.py:529: ConvergenceWarning: Objective did not converge. You might want to increase the number of iterations. Duality gap: 809.8049957406511, tolerance: 275.5085011235955\n",
      "  model = cd_fast.enet_coordinate_descent(\n",
      "C:\\Users\\pauli\\anaconda3\\lib\\site-packages\\sklearn\\linear_model\\_coordinate_descent.py:529: ConvergenceWarning: Objective did not converge. You might want to increase the number of iterations. Duality gap: 583.7795471625095, tolerance: 290.98595302391\n",
      "  model = cd_fast.enet_coordinate_descent(\n",
      "C:\\Users\\pauli\\anaconda3\\lib\\site-packages\\sklearn\\linear_model\\_coordinate_descent.py:529: ConvergenceWarning: Objective did not converge. You might want to increase the number of iterations. Duality gap: 512.0201935513624, tolerance: 289.1396610407877\n",
      "  model = cd_fast.enet_coordinate_descent(\n",
      "C:\\Users\\pauli\\anaconda3\\lib\\site-packages\\sklearn\\linear_model\\_coordinate_descent.py:529: ConvergenceWarning: Objective did not converge. You might want to increase the number of iterations. Duality gap: 517.5153121552037, tolerance: 275.5085011235955\n",
      "  model = cd_fast.enet_coordinate_descent(\n",
      "C:\\Users\\pauli\\anaconda3\\lib\\site-packages\\sklearn\\linear_model\\_coordinate_descent.py:529: ConvergenceWarning: Objective did not converge. You might want to increase the number of iterations. Duality gap: 1474.6757823092378, tolerance: 290.98595302391\n",
      "  model = cd_fast.enet_coordinate_descent(\n",
      "C:\\Users\\pauli\\anaconda3\\lib\\site-packages\\sklearn\\linear_model\\_coordinate_descent.py:529: ConvergenceWarning: Objective did not converge. You might want to increase the number of iterations. Duality gap: 1763.8707617690145, tolerance: 289.1396610407877\n",
      "  model = cd_fast.enet_coordinate_descent(\n",
      "C:\\Users\\pauli\\anaconda3\\lib\\site-packages\\sklearn\\linear_model\\_coordinate_descent.py:529: ConvergenceWarning: Objective did not converge. You might want to increase the number of iterations. Duality gap: 1925.6930526765439, tolerance: 275.5085011235955\n",
      "  model = cd_fast.enet_coordinate_descent(\n",
      "C:\\Users\\pauli\\anaconda3\\lib\\site-packages\\sklearn\\linear_model\\_coordinate_descent.py:529: ConvergenceWarning: Objective did not converge. You might want to increase the number of iterations. Duality gap: 646.8947846751144, tolerance: 290.98595302391\n",
      "  model = cd_fast.enet_coordinate_descent(\n",
      "C:\\Users\\pauli\\anaconda3\\lib\\site-packages\\sklearn\\linear_model\\_coordinate_descent.py:529: ConvergenceWarning: Objective did not converge. You might want to increase the number of iterations. Duality gap: 870.1991860109811, tolerance: 289.1396610407877\n",
      "  model = cd_fast.enet_coordinate_descent(\n",
      "C:\\Users\\pauli\\anaconda3\\lib\\site-packages\\sklearn\\linear_model\\_coordinate_descent.py:529: ConvergenceWarning: Objective did not converge. You might want to increase the number of iterations. Duality gap: 746.5715711923767, tolerance: 275.5085011235955\n",
      "  model = cd_fast.enet_coordinate_descent(\n",
      "C:\\Users\\pauli\\anaconda3\\lib\\site-packages\\sklearn\\linear_model\\_coordinate_descent.py:529: ConvergenceWarning: Objective did not converge. You might want to increase the number of iterations. Duality gap: 613.3556851965941, tolerance: 290.98595302391\n",
      "  model = cd_fast.enet_coordinate_descent(\n"
     ]
    },
    {
     "name": "stderr",
     "output_type": "stream",
     "text": [
      "C:\\Users\\pauli\\anaconda3\\lib\\site-packages\\sklearn\\linear_model\\_coordinate_descent.py:529: ConvergenceWarning: Objective did not converge. You might want to increase the number of iterations. Duality gap: 570.332570155412, tolerance: 289.1396610407877\n",
      "  model = cd_fast.enet_coordinate_descent(\n",
      "C:\\Users\\pauli\\anaconda3\\lib\\site-packages\\sklearn\\linear_model\\_coordinate_descent.py:529: ConvergenceWarning: Objective did not converge. You might want to increase the number of iterations. Duality gap: 574.187342139089, tolerance: 275.5085011235955\n",
      "  model = cd_fast.enet_coordinate_descent(\n",
      "C:\\Users\\pauli\\anaconda3\\lib\\site-packages\\sklearn\\linear_model\\_coordinate_descent.py:529: ConvergenceWarning: Objective did not converge. You might want to increase the number of iterations. Duality gap: 1432.5862363746332, tolerance: 290.98595302391\n",
      "  model = cd_fast.enet_coordinate_descent(\n",
      "C:\\Users\\pauli\\anaconda3\\lib\\site-packages\\sklearn\\linear_model\\_coordinate_descent.py:529: ConvergenceWarning: Objective did not converge. You might want to increase the number of iterations. Duality gap: 1775.0098285877427, tolerance: 289.1396610407877\n",
      "  model = cd_fast.enet_coordinate_descent(\n",
      "C:\\Users\\pauli\\anaconda3\\lib\\site-packages\\sklearn\\linear_model\\_coordinate_descent.py:529: ConvergenceWarning: Objective did not converge. You might want to increase the number of iterations. Duality gap: 1506.500198333718, tolerance: 275.5085011235955\n",
      "  model = cd_fast.enet_coordinate_descent(\n",
      "C:\\Users\\pauli\\anaconda3\\lib\\site-packages\\sklearn\\linear_model\\_coordinate_descent.py:529: ConvergenceWarning: Objective did not converge. You might want to increase the number of iterations. Duality gap: 558.7475794717539, tolerance: 290.98595302391\n",
      "  model = cd_fast.enet_coordinate_descent(\n",
      "C:\\Users\\pauli\\anaconda3\\lib\\site-packages\\sklearn\\linear_model\\_coordinate_descent.py:529: ConvergenceWarning: Objective did not converge. You might want to increase the number of iterations. Duality gap: 789.033765548229, tolerance: 289.1396610407877\n",
      "  model = cd_fast.enet_coordinate_descent(\n",
      "C:\\Users\\pauli\\anaconda3\\lib\\site-packages\\sklearn\\linear_model\\_coordinate_descent.py:529: ConvergenceWarning: Objective did not converge. You might want to increase the number of iterations. Duality gap: 651.4276807727401, tolerance: 275.5085011235955\n",
      "  model = cd_fast.enet_coordinate_descent(\n",
      "C:\\Users\\pauli\\anaconda3\\lib\\site-packages\\sklearn\\linear_model\\_coordinate_descent.py:529: ConvergenceWarning: Objective did not converge. You might want to increase the number of iterations. Duality gap: 653.572556551329, tolerance: 290.98595302391\n",
      "  model = cd_fast.enet_coordinate_descent(\n",
      "C:\\Users\\pauli\\anaconda3\\lib\\site-packages\\sklearn\\linear_model\\_coordinate_descent.py:529: ConvergenceWarning: Objective did not converge. You might want to increase the number of iterations. Duality gap: 642.8733190761395, tolerance: 289.1396610407877\n",
      "  model = cd_fast.enet_coordinate_descent(\n",
      "C:\\Users\\pauli\\anaconda3\\lib\\site-packages\\sklearn\\linear_model\\_coordinate_descent.py:529: ConvergenceWarning: Objective did not converge. You might want to increase the number of iterations. Duality gap: 644.9861988510183, tolerance: 275.5085011235955\n",
      "  model = cd_fast.enet_coordinate_descent(\n",
      "C:\\Users\\pauli\\anaconda3\\lib\\site-packages\\sklearn\\linear_model\\_coordinate_descent.py:529: ConvergenceWarning: Objective did not converge. You might want to increase the number of iterations. Duality gap: 1229.8519131966214, tolerance: 290.98595302391\n",
      "  model = cd_fast.enet_coordinate_descent(\n",
      "C:\\Users\\pauli\\anaconda3\\lib\\site-packages\\sklearn\\linear_model\\_coordinate_descent.py:529: ConvergenceWarning: Objective did not converge. You might want to increase the number of iterations. Duality gap: 1210.4952541512107, tolerance: 289.1396610407877\n",
      "  model = cd_fast.enet_coordinate_descent(\n",
      "C:\\Users\\pauli\\anaconda3\\lib\\site-packages\\sklearn\\linear_model\\_coordinate_descent.py:529: ConvergenceWarning: Objective did not converge. You might want to increase the number of iterations. Duality gap: 1369.8276483951922, tolerance: 275.5085011235955\n",
      "  model = cd_fast.enet_coordinate_descent(\n",
      "C:\\Users\\pauli\\anaconda3\\lib\\site-packages\\sklearn\\linear_model\\_coordinate_descent.py:529: ConvergenceWarning: Objective did not converge. You might want to increase the number of iterations. Duality gap: 529.612512212705, tolerance: 290.98595302391\n",
      "  model = cd_fast.enet_coordinate_descent(\n",
      "C:\\Users\\pauli\\anaconda3\\lib\\site-packages\\sklearn\\linear_model\\_coordinate_descent.py:529: ConvergenceWarning: Objective did not converge. You might want to increase the number of iterations. Duality gap: 636.38001011913, tolerance: 289.1396610407877\n",
      "  model = cd_fast.enet_coordinate_descent(\n",
      "C:\\Users\\pauli\\anaconda3\\lib\\site-packages\\sklearn\\linear_model\\_coordinate_descent.py:529: ConvergenceWarning: Objective did not converge. You might want to increase the number of iterations. Duality gap: 572.846887646665, tolerance: 275.5085011235955\n",
      "  model = cd_fast.enet_coordinate_descent(\n",
      "C:\\Users\\pauli\\anaconda3\\lib\\site-packages\\sklearn\\linear_model\\_coordinate_descent.py:529: ConvergenceWarning: Objective did not converge. You might want to increase the number of iterations. Duality gap: 709.1518425515555, tolerance: 290.98595302391\n",
      "  model = cd_fast.enet_coordinate_descent(\n",
      "C:\\Users\\pauli\\anaconda3\\lib\\site-packages\\sklearn\\linear_model\\_coordinate_descent.py:529: ConvergenceWarning: Objective did not converge. You might want to increase the number of iterations. Duality gap: 727.2159653208887, tolerance: 289.1396610407877\n",
      "  model = cd_fast.enet_coordinate_descent(\n",
      "C:\\Users\\pauli\\anaconda3\\lib\\site-packages\\sklearn\\linear_model\\_coordinate_descent.py:529: ConvergenceWarning: Objective did not converge. You might want to increase the number of iterations. Duality gap: 729.5904926279836, tolerance: 275.5085011235955\n",
      "  model = cd_fast.enet_coordinate_descent(\n",
      "C:\\Users\\pauli\\anaconda3\\lib\\site-packages\\sklearn\\linear_model\\_coordinate_descent.py:529: ConvergenceWarning: Objective did not converge. You might want to increase the number of iterations. Duality gap: 1020.8395661483096, tolerance: 290.98595302391\n",
      "  model = cd_fast.enet_coordinate_descent(\n",
      "C:\\Users\\pauli\\anaconda3\\lib\\site-packages\\sklearn\\linear_model\\_coordinate_descent.py:529: ConvergenceWarning: Objective did not converge. You might want to increase the number of iterations. Duality gap: 1142.904261946916, tolerance: 289.1396610407877\n",
      "  model = cd_fast.enet_coordinate_descent(\n",
      "C:\\Users\\pauli\\anaconda3\\lib\\site-packages\\sklearn\\linear_model\\_coordinate_descent.py:529: ConvergenceWarning: Objective did not converge. You might want to increase the number of iterations. Duality gap: 914.0173514530925, tolerance: 275.5085011235955\n",
      "  model = cd_fast.enet_coordinate_descent(\n",
      "C:\\Users\\pauli\\anaconda3\\lib\\site-packages\\sklearn\\linear_model\\_coordinate_descent.py:529: ConvergenceWarning: Objective did not converge. You might want to increase the number of iterations. Duality gap: 549.4608236222775, tolerance: 290.98595302391\n",
      "  model = cd_fast.enet_coordinate_descent(\n",
      "C:\\Users\\pauli\\anaconda3\\lib\\site-packages\\sklearn\\linear_model\\_coordinate_descent.py:529: ConvergenceWarning: Objective did not converge. You might want to increase the number of iterations. Duality gap: 640.3210777013956, tolerance: 289.1396610407877\n",
      "  model = cd_fast.enet_coordinate_descent(\n",
      "C:\\Users\\pauli\\anaconda3\\lib\\site-packages\\sklearn\\linear_model\\_coordinate_descent.py:529: ConvergenceWarning: Objective did not converge. You might want to increase the number of iterations. Duality gap: 581.5045714465232, tolerance: 275.5085011235955\n",
      "  model = cd_fast.enet_coordinate_descent(\n",
      "C:\\Users\\pauli\\anaconda3\\lib\\site-packages\\sklearn\\linear_model\\_coordinate_descent.py:529: ConvergenceWarning: Objective did not converge. You might want to increase the number of iterations. Duality gap: 778.0273359988987, tolerance: 290.98595302391\n",
      "  model = cd_fast.enet_coordinate_descent(\n",
      "C:\\Users\\pauli\\anaconda3\\lib\\site-packages\\sklearn\\linear_model\\_coordinate_descent.py:529: ConvergenceWarning: Objective did not converge. You might want to increase the number of iterations. Duality gap: 828.7036122755408, tolerance: 289.1396610407877\n",
      "  model = cd_fast.enet_coordinate_descent(\n",
      "C:\\Users\\pauli\\anaconda3\\lib\\site-packages\\sklearn\\linear_model\\_coordinate_descent.py:529: ConvergenceWarning: Objective did not converge. You might want to increase the number of iterations. Duality gap: 830.2334468848353, tolerance: 275.5085011235955\n",
      "  model = cd_fast.enet_coordinate_descent(\n"
     ]
    },
    {
     "name": "stderr",
     "output_type": "stream",
     "text": [
      "C:\\Users\\pauli\\anaconda3\\lib\\site-packages\\sklearn\\linear_model\\_coordinate_descent.py:529: ConvergenceWarning: Objective did not converge. You might want to increase the number of iterations. Duality gap: 987.2564357033807, tolerance: 290.98595302391\n",
      "  model = cd_fast.enet_coordinate_descent(\n",
      "C:\\Users\\pauli\\anaconda3\\lib\\site-packages\\sklearn\\linear_model\\_coordinate_descent.py:529: ConvergenceWarning: Objective did not converge. You might want to increase the number of iterations. Duality gap: 933.5356575102842, tolerance: 289.1396610407877\n",
      "  model = cd_fast.enet_coordinate_descent(\n",
      "C:\\Users\\pauli\\anaconda3\\lib\\site-packages\\sklearn\\linear_model\\_coordinate_descent.py:529: ConvergenceWarning: Objective did not converge. You might want to increase the number of iterations. Duality gap: 1409.5636289504237, tolerance: 275.5085011235955\n",
      "  model = cd_fast.enet_coordinate_descent(\n",
      "C:\\Users\\pauli\\anaconda3\\lib\\site-packages\\sklearn\\linear_model\\_coordinate_descent.py:529: ConvergenceWarning: Objective did not converge. You might want to increase the number of iterations. Duality gap: 568.1185484670204, tolerance: 290.98595302391\n",
      "  model = cd_fast.enet_coordinate_descent(\n",
      "C:\\Users\\pauli\\anaconda3\\lib\\site-packages\\sklearn\\linear_model\\_coordinate_descent.py:529: ConvergenceWarning: Objective did not converge. You might want to increase the number of iterations. Duality gap: 645.1095559651731, tolerance: 289.1396610407877\n",
      "  model = cd_fast.enet_coordinate_descent(\n",
      "C:\\Users\\pauli\\anaconda3\\lib\\site-packages\\sklearn\\linear_model\\_coordinate_descent.py:529: ConvergenceWarning: Objective did not converge. You might want to increase the number of iterations. Duality gap: 591.1501498733778, tolerance: 275.5085011235955\n",
      "  model = cd_fast.enet_coordinate_descent(\n",
      "C:\\Users\\pauli\\anaconda3\\lib\\site-packages\\sklearn\\linear_model\\_coordinate_descent.py:529: ConvergenceWarning: Objective did not converge. You might want to increase the number of iterations. Duality gap: 895.6293547843547, tolerance: 290.98595302391\n",
      "  model = cd_fast.enet_coordinate_descent(\n",
      "C:\\Users\\pauli\\anaconda3\\lib\\site-packages\\sklearn\\linear_model\\_coordinate_descent.py:529: ConvergenceWarning: Objective did not converge. You might want to increase the number of iterations. Duality gap: 775.5339056557327, tolerance: 289.1396610407877\n",
      "  model = cd_fast.enet_coordinate_descent(\n",
      "C:\\Users\\pauli\\anaconda3\\lib\\site-packages\\sklearn\\linear_model\\_coordinate_descent.py:529: ConvergenceWarning: Objective did not converge. You might want to increase the number of iterations. Duality gap: 667.13525418882, tolerance: 275.5085011235955\n",
      "  model = cd_fast.enet_coordinate_descent(\n",
      "C:\\Users\\pauli\\anaconda3\\lib\\site-packages\\sklearn\\linear_model\\_coordinate_descent.py:529: ConvergenceWarning: Objective did not converge. You might want to increase the number of iterations. Duality gap: 587.6764316535136, tolerance: 290.98595302391\n",
      "  model = cd_fast.enet_coordinate_descent(\n",
      "C:\\Users\\pauli\\anaconda3\\lib\\site-packages\\sklearn\\linear_model\\_coordinate_descent.py:529: ConvergenceWarning: Objective did not converge. You might want to increase the number of iterations. Duality gap: 946.5252933909269, tolerance: 289.1396610407877\n",
      "  model = cd_fast.enet_coordinate_descent(\n",
      "C:\\Users\\pauli\\anaconda3\\lib\\site-packages\\sklearn\\linear_model\\_coordinate_descent.py:529: ConvergenceWarning: Objective did not converge. You might want to increase the number of iterations. Duality gap: 1609.4710588198077, tolerance: 275.5085011235955\n",
      "  model = cd_fast.enet_coordinate_descent(\n",
      "C:\\Users\\pauli\\anaconda3\\lib\\site-packages\\sklearn\\linear_model\\_coordinate_descent.py:529: ConvergenceWarning: Objective did not converge. You might want to increase the number of iterations. Duality gap: 577.6444958976062, tolerance: 290.98595302391\n",
      "  model = cd_fast.enet_coordinate_descent(\n",
      "C:\\Users\\pauli\\anaconda3\\lib\\site-packages\\sklearn\\linear_model\\_coordinate_descent.py:529: ConvergenceWarning: Objective did not converge. You might want to increase the number of iterations. Duality gap: 637.8781071568083, tolerance: 289.1396610407877\n",
      "  model = cd_fast.enet_coordinate_descent(\n",
      "C:\\Users\\pauli\\anaconda3\\lib\\site-packages\\sklearn\\linear_model\\_coordinate_descent.py:529: ConvergenceWarning: Objective did not converge. You might want to increase the number of iterations. Duality gap: 581.3395729112599, tolerance: 275.5085011235955\n",
      "  model = cd_fast.enet_coordinate_descent(\n",
      "C:\\Users\\pauli\\anaconda3\\lib\\site-packages\\sklearn\\linear_model\\_coordinate_descent.py:529: ConvergenceWarning: Objective did not converge. You might want to increase the number of iterations. Duality gap: 679.7834075564197, tolerance: 290.98595302391\n",
      "  model = cd_fast.enet_coordinate_descent(\n",
      "C:\\Users\\pauli\\anaconda3\\lib\\site-packages\\sklearn\\linear_model\\_coordinate_descent.py:529: ConvergenceWarning: Objective did not converge. You might want to increase the number of iterations. Duality gap: 669.2535854370026, tolerance: 289.1396610407877\n",
      "  model = cd_fast.enet_coordinate_descent(\n",
      "C:\\Users\\pauli\\anaconda3\\lib\\site-packages\\sklearn\\linear_model\\_coordinate_descent.py:529: ConvergenceWarning: Objective did not converge. You might want to increase the number of iterations. Duality gap: 656.0403050994446, tolerance: 275.5085011235955\n",
      "  model = cd_fast.enet_coordinate_descent(\n",
      "C:\\Users\\pauli\\anaconda3\\lib\\site-packages\\sklearn\\linear_model\\_coordinate_descent.py:529: ConvergenceWarning: Objective did not converge. You might want to increase the number of iterations. Duality gap: 596.1410031623818, tolerance: 290.98595302391\n",
      "  model = cd_fast.enet_coordinate_descent(\n",
      "C:\\Users\\pauli\\anaconda3\\lib\\site-packages\\sklearn\\linear_model\\_coordinate_descent.py:529: ConvergenceWarning: Objective did not converge. You might want to increase the number of iterations. Duality gap: 992.4427231288028, tolerance: 289.1396610407877\n",
      "  model = cd_fast.enet_coordinate_descent(\n",
      "C:\\Users\\pauli\\anaconda3\\lib\\site-packages\\sklearn\\linear_model\\_coordinate_descent.py:529: ConvergenceWarning: Objective did not converge. You might want to increase the number of iterations. Duality gap: 1389.4769568584352, tolerance: 275.5085011235955\n",
      "  model = cd_fast.enet_coordinate_descent(\n",
      "C:\\Users\\pauli\\anaconda3\\lib\\site-packages\\sklearn\\linear_model\\_coordinate_descent.py:529: ConvergenceWarning: Objective did not converge. You might want to increase the number of iterations. Duality gap: 582.2004151955261, tolerance: 290.98595302391\n",
      "  model = cd_fast.enet_coordinate_descent(\n",
      "C:\\Users\\pauli\\anaconda3\\lib\\site-packages\\sklearn\\linear_model\\_coordinate_descent.py:529: ConvergenceWarning: Objective did not converge. You might want to increase the number of iterations. Duality gap: 613.5600343299448, tolerance: 289.1396610407877\n",
      "  model = cd_fast.enet_coordinate_descent(\n",
      "C:\\Users\\pauli\\anaconda3\\lib\\site-packages\\sklearn\\linear_model\\_coordinate_descent.py:529: ConvergenceWarning: Objective did not converge. You might want to increase the number of iterations. Duality gap: 560.7438289288257, tolerance: 275.5085011235955\n",
      "  model = cd_fast.enet_coordinate_descent(\n",
      "C:\\Users\\pauli\\anaconda3\\lib\\site-packages\\sklearn\\linear_model\\_coordinate_descent.py:529: ConvergenceWarning: Objective did not converge. You might want to increase the number of iterations. Duality gap: 609.2175427766379, tolerance: 290.98595302391\n",
      "  model = cd_fast.enet_coordinate_descent(\n",
      "C:\\Users\\pauli\\anaconda3\\lib\\site-packages\\sklearn\\linear_model\\_coordinate_descent.py:529: ConvergenceWarning: Objective did not converge. You might want to increase the number of iterations. Duality gap: 812.9025699237118, tolerance: 289.1396610407877\n",
      "  model = cd_fast.enet_coordinate_descent(\n",
      "C:\\Users\\pauli\\anaconda3\\lib\\site-packages\\sklearn\\linear_model\\_coordinate_descent.py:529: ConvergenceWarning: Objective did not converge. You might want to increase the number of iterations. Duality gap: 687.6353275353358, tolerance: 275.5085011235955\n",
      "  model = cd_fast.enet_coordinate_descent(\n",
      "C:\\Users\\pauli\\anaconda3\\lib\\site-packages\\sklearn\\linear_model\\_coordinate_descent.py:529: ConvergenceWarning: Objective did not converge. You might want to increase the number of iterations. Duality gap: 643.1185140721864, tolerance: 290.98595302391\n",
      "  model = cd_fast.enet_coordinate_descent(\n"
     ]
    },
    {
     "name": "stderr",
     "output_type": "stream",
     "text": [
      "C:\\Users\\pauli\\anaconda3\\lib\\site-packages\\sklearn\\linear_model\\_coordinate_descent.py:529: ConvergenceWarning: Objective did not converge. You might want to increase the number of iterations. Duality gap: 1016.0743762744423, tolerance: 289.1396610407877\n",
      "  model = cd_fast.enet_coordinate_descent(\n",
      "C:\\Users\\pauli\\anaconda3\\lib\\site-packages\\sklearn\\linear_model\\_coordinate_descent.py:529: ConvergenceWarning: Objective did not converge. You might want to increase the number of iterations. Duality gap: 1989.01514011759, tolerance: 275.5085011235955\n",
      "  model = cd_fast.enet_coordinate_descent(\n",
      "C:\\Users\\pauli\\anaconda3\\lib\\site-packages\\sklearn\\linear_model\\_coordinate_descent.py:529: ConvergenceWarning: Objective did not converge. You might want to increase the number of iterations. Duality gap: 577.8193440429968, tolerance: 290.98595302391\n",
      "  model = cd_fast.enet_coordinate_descent(\n",
      "C:\\Users\\pauli\\anaconda3\\lib\\site-packages\\sklearn\\linear_model\\_coordinate_descent.py:529: ConvergenceWarning: Objective did not converge. You might want to increase the number of iterations. Duality gap: 571.0146528075929, tolerance: 289.1396610407877\n",
      "  model = cd_fast.enet_coordinate_descent(\n",
      "C:\\Users\\pauli\\anaconda3\\lib\\site-packages\\sklearn\\linear_model\\_coordinate_descent.py:529: ConvergenceWarning: Objective did not converge. You might want to increase the number of iterations. Duality gap: 526.7627494292174, tolerance: 275.5085011235955\n",
      "  model = cd_fast.enet_coordinate_descent(\n",
      "C:\\Users\\pauli\\anaconda3\\lib\\site-packages\\sklearn\\linear_model\\_coordinate_descent.py:529: ConvergenceWarning: Objective did not converge. You might want to increase the number of iterations. Duality gap: 634.8020036750477, tolerance: 290.98595302391\n",
      "  model = cd_fast.enet_coordinate_descent(\n",
      "C:\\Users\\pauli\\anaconda3\\lib\\site-packages\\sklearn\\linear_model\\_coordinate_descent.py:529: ConvergenceWarning: Objective did not converge. You might want to increase the number of iterations. Duality gap: 663.481064754189, tolerance: 289.1396610407877\n",
      "  model = cd_fast.enet_coordinate_descent(\n",
      "C:\\Users\\pauli\\anaconda3\\lib\\site-packages\\sklearn\\linear_model\\_coordinate_descent.py:529: ConvergenceWarning: Objective did not converge. You might want to increase the number of iterations. Duality gap: 613.1016374721839, tolerance: 275.5085011235955\n",
      "  model = cd_fast.enet_coordinate_descent(\n",
      "C:\\Users\\pauli\\anaconda3\\lib\\site-packages\\sklearn\\linear_model\\_coordinate_descent.py:529: ConvergenceWarning: Objective did not converge. You might want to increase the number of iterations. Duality gap: 720.7462920707076, tolerance: 290.98595302391\n",
      "  model = cd_fast.enet_coordinate_descent(\n",
      "C:\\Users\\pauli\\anaconda3\\lib\\site-packages\\sklearn\\linear_model\\_coordinate_descent.py:529: ConvergenceWarning: Objective did not converge. You might want to increase the number of iterations. Duality gap: 1240.9223820870793, tolerance: 289.1396610407877\n",
      "  model = cd_fast.enet_coordinate_descent(\n",
      "C:\\Users\\pauli\\anaconda3\\lib\\site-packages\\sklearn\\linear_model\\_coordinate_descent.py:529: ConvergenceWarning: Objective did not converge. You might want to increase the number of iterations. Duality gap: 1231.0675886214012, tolerance: 275.5085011235955\n",
      "  model = cd_fast.enet_coordinate_descent(\n",
      "C:\\Users\\pauli\\anaconda3\\lib\\site-packages\\sklearn\\linear_model\\_coordinate_descent.py:529: ConvergenceWarning: Objective did not converge. You might want to increase the number of iterations. Duality gap: 556.2233713830428, tolerance: 290.98595302391\n",
      "  model = cd_fast.enet_coordinate_descent(\n",
      "C:\\Users\\pauli\\anaconda3\\lib\\site-packages\\sklearn\\linear_model\\_coordinate_descent.py:529: ConvergenceWarning: Objective did not converge. You might want to increase the number of iterations. Duality gap: 506.01153937044, tolerance: 289.1396610407877\n",
      "  model = cd_fast.enet_coordinate_descent(\n",
      "C:\\Users\\pauli\\anaconda3\\lib\\site-packages\\sklearn\\linear_model\\_coordinate_descent.py:529: ConvergenceWarning: Objective did not converge. You might want to increase the number of iterations. Duality gap: 470.77922746690456, tolerance: 275.5085011235955\n",
      "  model = cd_fast.enet_coordinate_descent(\n",
      "C:\\Users\\pauli\\anaconda3\\lib\\site-packages\\sklearn\\linear_model\\_coordinate_descent.py:529: ConvergenceWarning: Objective did not converge. You might want to increase the number of iterations. Duality gap: 644.8831012567316, tolerance: 290.98595302391\n",
      "  model = cd_fast.enet_coordinate_descent(\n",
      "C:\\Users\\pauli\\anaconda3\\lib\\site-packages\\sklearn\\linear_model\\_coordinate_descent.py:529: ConvergenceWarning: Objective did not converge. You might want to increase the number of iterations. Duality gap: 654.5065860229442, tolerance: 289.1396610407877\n",
      "  model = cd_fast.enet_coordinate_descent(\n",
      "C:\\Users\\pauli\\anaconda3\\lib\\site-packages\\sklearn\\linear_model\\_coordinate_descent.py:529: ConvergenceWarning: Objective did not converge. You might want to increase the number of iterations. Duality gap: 602.2651022453392, tolerance: 275.5085011235955\n",
      "  model = cd_fast.enet_coordinate_descent(\n",
      "C:\\Users\\pauli\\anaconda3\\lib\\site-packages\\sklearn\\linear_model\\_coordinate_descent.py:529: ConvergenceWarning: Objective did not converge. You might want to increase the number of iterations. Duality gap: 977.7113542282823, tolerance: 290.98595302391\n",
      "  model = cd_fast.enet_coordinate_descent(\n",
      "C:\\Users\\pauli\\anaconda3\\lib\\site-packages\\sklearn\\linear_model\\_coordinate_descent.py:529: ConvergenceWarning: Objective did not converge. You might want to increase the number of iterations. Duality gap: 1397.2285996807586, tolerance: 289.1396610407877\n",
      "  model = cd_fast.enet_coordinate_descent(\n",
      "C:\\Users\\pauli\\anaconda3\\lib\\site-packages\\sklearn\\linear_model\\_coordinate_descent.py:529: ConvergenceWarning: Objective did not converge. You might want to increase the number of iterations. Duality gap: 1546.198197699996, tolerance: 275.5085011235955\n",
      "  model = cd_fast.enet_coordinate_descent(\n",
      "C:\\Users\\pauli\\anaconda3\\lib\\site-packages\\sklearn\\linear_model\\_coordinate_descent.py:529: ConvergenceWarning: Objective did not converge. You might want to increase the number of iterations. Duality gap: 495.2713689369775, tolerance: 290.98595302391\n",
      "  model = cd_fast.enet_coordinate_descent(\n",
      "C:\\Users\\pauli\\anaconda3\\lib\\site-packages\\sklearn\\linear_model\\_coordinate_descent.py:529: ConvergenceWarning: Objective did not converge. You might want to increase the number of iterations. Duality gap: 382.66883151457296, tolerance: 289.1396610407877\n",
      "  model = cd_fast.enet_coordinate_descent(\n",
      "C:\\Users\\pauli\\anaconda3\\lib\\site-packages\\sklearn\\linear_model\\_coordinate_descent.py:529: ConvergenceWarning: Objective did not converge. You might want to increase the number of iterations. Duality gap: 371.11148738769407, tolerance: 275.5085011235955\n",
      "  model = cd_fast.enet_coordinate_descent(\n",
      "C:\\Users\\pauli\\anaconda3\\lib\\site-packages\\sklearn\\linear_model\\_coordinate_descent.py:529: ConvergenceWarning: Objective did not converge. You might want to increase the number of iterations. Duality gap: 567.9073223411324, tolerance: 290.98595302391\n",
      "  model = cd_fast.enet_coordinate_descent(\n",
      "C:\\Users\\pauli\\anaconda3\\lib\\site-packages\\sklearn\\linear_model\\_coordinate_descent.py:529: ConvergenceWarning: Objective did not converge. You might want to increase the number of iterations. Duality gap: 567.5450104511219, tolerance: 289.1396610407877\n",
      "  model = cd_fast.enet_coordinate_descent(\n",
      "C:\\Users\\pauli\\anaconda3\\lib\\site-packages\\sklearn\\linear_model\\_coordinate_descent.py:529: ConvergenceWarning: Objective did not converge. You might want to increase the number of iterations. Duality gap: 485.3965362907984, tolerance: 275.5085011235955\n",
      "  model = cd_fast.enet_coordinate_descent(\n",
      "C:\\Users\\pauli\\anaconda3\\lib\\site-packages\\sklearn\\linear_model\\_coordinate_descent.py:529: ConvergenceWarning: Objective did not converge. You might want to increase the number of iterations. Duality gap: 397.8139902254188, tolerance: 290.98595302391\n",
      "  model = cd_fast.enet_coordinate_descent(\n",
      "C:\\Users\\pauli\\anaconda3\\lib\\site-packages\\sklearn\\linear_model\\_coordinate_descent.py:529: ConvergenceWarning: Objective did not converge. You might want to increase the number of iterations. Duality gap: 1353.9024377733876, tolerance: 289.1396610407877\n",
      "  model = cd_fast.enet_coordinate_descent(\n"
     ]
    },
    {
     "name": "stderr",
     "output_type": "stream",
     "text": [
      "C:\\Users\\pauli\\anaconda3\\lib\\site-packages\\sklearn\\linear_model\\_coordinate_descent.py:529: ConvergenceWarning: Objective did not converge. You might want to increase the number of iterations. Duality gap: 1330.9020494400902, tolerance: 275.5085011235955\n",
      "  model = cd_fast.enet_coordinate_descent(\n",
      "C:\\Users\\pauli\\anaconda3\\lib\\site-packages\\sklearn\\linear_model\\_coordinate_descent.py:529: ConvergenceWarning: Objective did not converge. You might want to increase the number of iterations. Duality gap: 369.0045522036089, tolerance: 290.98595302391\n",
      "  model = cd_fast.enet_coordinate_descent(\n",
      "C:\\Users\\pauli\\anaconda3\\lib\\site-packages\\sklearn\\linear_model\\_coordinate_descent.py:529: ConvergenceWarning: Objective did not converge. You might want to increase the number of iterations. Duality gap: 288.96644923917484, tolerance: 275.5085011235955\n",
      "  model = cd_fast.enet_coordinate_descent(\n",
      "C:\\Users\\pauli\\anaconda3\\lib\\site-packages\\sklearn\\linear_model\\_coordinate_descent.py:529: ConvergenceWarning: Objective did not converge. You might want to increase the number of iterations. Duality gap: 400.9914663683303, tolerance: 290.98595302391\n",
      "  model = cd_fast.enet_coordinate_descent(\n",
      "C:\\Users\\pauli\\anaconda3\\lib\\site-packages\\sklearn\\linear_model\\_coordinate_descent.py:529: ConvergenceWarning: Objective did not converge. You might want to increase the number of iterations. Duality gap: 320.26195901103347, tolerance: 289.1396610407877\n",
      "  model = cd_fast.enet_coordinate_descent(\n",
      "C:\\Users\\pauli\\anaconda3\\lib\\site-packages\\sklearn\\linear_model\\_coordinate_descent.py:529: ConvergenceWarning: Objective did not converge. You might want to increase the number of iterations. Duality gap: 360.00257641232747, tolerance: 290.98595302391\n",
      "  model = cd_fast.enet_coordinate_descent(\n",
      "C:\\Users\\pauli\\anaconda3\\lib\\site-packages\\sklearn\\linear_model\\_coordinate_descent.py:529: ConvergenceWarning: Objective did not converge. You might want to increase the number of iterations. Duality gap: 574.125335252691, tolerance: 289.1396610407877\n",
      "  model = cd_fast.enet_coordinate_descent(\n",
      "C:\\Users\\pauli\\anaconda3\\lib\\site-packages\\sklearn\\linear_model\\_coordinate_descent.py:529: ConvergenceWarning: Objective did not converge. You might want to increase the number of iterations. Duality gap: 2014.1386085709528, tolerance: 275.5085011235955\n",
      "  model = cd_fast.enet_coordinate_descent(\n",
      "C:\\Users\\pauli\\anaconda3\\lib\\site-packages\\sklearn\\linear_model\\_coordinate_descent.py:529: ConvergenceWarning: Objective did not converge. You might want to increase the number of iterations. Duality gap: 592.6990347482642, tolerance: 275.5085011235955\n",
      "  model = cd_fast.enet_coordinate_descent(\n",
      "C:\\Users\\pauli\\anaconda3\\lib\\site-packages\\sklearn\\linear_model\\_coordinate_descent.py:529: ConvergenceWarning: Objective did not converge. You might want to increase the number of iterations. Duality gap: 2931.7798722460007, tolerance: 428.1108202436739\n",
      "  model = cd_fast.enet_coordinate_descent(\n"
     ]
    },
    {
     "data": {
      "text/plain": [
       "GridSearchCV(cv=KFold(n_splits=3, random_state=72018, shuffle=True),\n",
       "             estimator=Pipeline(steps=[('scaler', StandardScaler()),\n",
       "                                       ('polynomial_features',\n",
       "                                        PolynomialFeatures()),\n",
       "                                       ('lasso_regression', Lasso())]),\n",
       "             param_grid={'lasso_regression__alpha': array([0.06      , 0.0764565 , 0.0974266 , 0.12414828, 0.15819905,\n",
       "       0.2015891 , 0.25687994, 0.32733569, 0.41711568, 0.53152007,\n",
       "       0.67730274, 0.86306993, 1.09978843, 1.40143288, 1.78581086,\n",
       "       2.27561411, 2.89975814, 3.69508927, 4.70855982, 6.        ]),\n",
       "                         'polynomial_features__degree': [1, 2, 3]})"
      ]
     },
     "execution_count": 201,
     "metadata": {},
     "output_type": "execute_result"
    }
   ],
   "source": [
    "grid.fit(X, y)"
   ]
  },
  {
   "cell_type": "code",
   "execution_count": 202,
   "metadata": {},
   "outputs": [
    {
     "data": {
      "text/plain": [
       "(0.9998203179178877,\n",
       " {'lasso_regression__alpha': 0.06, 'polynomial_features__degree': 3})"
      ]
     },
     "execution_count": 202,
     "metadata": {},
     "output_type": "execute_result"
    }
   ],
   "source": [
    "grid.best_score_, grid.best_params_"
   ]
  },
  {
   "cell_type": "code",
   "execution_count": 203,
   "metadata": {},
   "outputs": [],
   "source": [
    "y_predict = grid.predict(X)"
   ]
  },
  {
   "cell_type": "code",
   "execution_count": 204,
   "metadata": {},
   "outputs": [
    {
     "data": {
      "text/plain": [
       "0.9998869107482742"
      ]
     },
     "execution_count": 204,
     "metadata": {},
     "output_type": "execute_result"
    }
   ],
   "source": [
    "# This includes both in-sample and out-of-sample\n",
    "lasso_r2 = r2_score(y, y_predict)\n",
    "lasso_r2"
   ]
  },
  {
   "cell_type": "code",
   "execution_count": 205,
   "metadata": {},
   "outputs": [
    {
     "name": "stdout",
     "output_type": "stream",
     "text": [
      "0.6736069475203901\n"
     ]
    }
   ],
   "source": [
    "lasso_rmse = rmse(y, y_predict)\n",
    "print(lasso_rmse)"
   ]
  },
  {
   "cell_type": "code",
   "execution_count": 206,
   "metadata": {},
   "outputs": [
    {
     "data": {
      "text/plain": [
       "0.5493160091861463"
      ]
     },
     "execution_count": 206,
     "metadata": {},
     "output_type": "execute_result"
    }
   ],
   "source": [
    "lasso_mae = mean_absolute_error(y, y_predict)\n",
    "lasso_mae"
   ]
  },
  {
   "cell_type": "code",
   "execution_count": 207,
   "metadata": {},
   "outputs": [
    {
     "data": {
      "text/plain": [
       "0.4537463197477375"
      ]
     },
     "execution_count": 207,
     "metadata": {},
     "output_type": "execute_result"
    }
   ],
   "source": [
    "lasso_mse = mean_squared_error(y, y_predict)\n",
    "lasso_mse"
   ]
  },
  {
   "cell_type": "markdown",
   "metadata": {},
   "source": [
    "#### Ridge"
   ]
  },
  {
   "cell_type": "code",
   "execution_count": 208,
   "metadata": {},
   "outputs": [],
   "source": [
    "pf = PolynomialFeatures(degree=3)\n",
    "alphas = np.geomspace(0.06, 6.0, 20)\n",
    "scores=[]\n",
    "for alpha in alphas:\n",
    "    ridge = Ridge(alpha=alpha, max_iter=100000)\n",
    "\n",
    "    estimator = Pipeline([\n",
    "        (\"scaler\", s),\n",
    "        (\"polynomial_features\", pf),\n",
    "        (\"ridge_regression\", ridge)])\n",
    "\n",
    "    predictions = cross_val_predict(estimator, X, y, cv = kf)\n",
    "    score = r2_score(y, predictions)\n",
    "    scores.append(score)"
   ]
  },
  {
   "cell_type": "code",
   "execution_count": 209,
   "metadata": {},
   "outputs": [
    {
     "data": {
      "text/plain": [
       "[(0.06, 0.9997220662985664),\n",
       " (0.07645649914218805, 0.9997345757902296),\n",
       " (0.0974266043513233, 0.999744260696229),\n",
       " (0.12414828486688738, 0.9997512628351912),\n",
       " (0.1581990539238215, 0.9997558152029304),\n",
       " (0.20158909717702692, 0.9997582039873327),\n",
       " (0.2568799439231636, 0.9997587105586583),\n",
       " (0.3273356868701111, 0.9997575530668209),\n",
       " (0.4171156777065363, 0.9997548437801241),\n",
       " (0.5315200742460495, 0.9997505698533989),\n",
       " (0.6773027350108134, 0.9997445967033842),\n",
       " (0.8630699329725978, 0.9997366879749078),\n",
       " (1.0997884264994613, 0.9997265346876775),\n",
       " (1.4014328814540729, 0.9997137870059382),\n",
       " (1.7858108649787907, 0.9996980836027237),\n",
       " (2.27561411443935, 0.9996790753171326),\n",
       " (2.8997581431430515, 0.9996564417991969),\n",
       " (3.6950892663961565, 0.9996299016710446),\n",
       " (4.708559822108766, 0.9995992175115995),\n",
       " (6.0, 0.9995641963572374)]"
      ]
     },
     "execution_count": 209,
     "metadata": {},
     "output_type": "execute_result"
    }
   ],
   "source": [
    "list(zip(alphas,scores))"
   ]
  },
  {
   "cell_type": "code",
   "execution_count": 210,
   "metadata": {},
   "outputs": [
    {
     "data": {
      "image/png": "[encoded data removed]",
      "text/plain": [
       "<Figure size 720x432 with 1 Axes>"
      ]
     },
     "metadata": {
      "needs_background": "light"
     },
     "output_type": "display_data"
    }
   ],
   "source": [
    "plt.figure(figsize=(10,6))\n",
    "plt.semilogx(alphas, scores, '-o', color='navy')\n",
    "plt.xlabel('$\\\\alpha$', size=15)\n",
    "plt.ylabel('$R^2$', size=15)\n",
    "plt.title('Different alpha values and their R^2 scores in Ridge Regression Model with 3rd degree Polynomial Features',\n",
    "          size=15)\n",
    "plt.show()"
   ]
  },
  {
   "cell_type": "code",
   "execution_count": 95,
   "metadata": {},
   "outputs": [],
   "source": [
    "# Same estimator as before\n",
    "estimator = Pipeline([(\"scaler\", StandardScaler()),\n",
    "        (\"polynomial_features\", PolynomialFeatures()),\n",
    "        (\"ridge_regression\", Ridge())])\n",
    "\n",
    "params = {\n",
    "    'polynomial_features__degree': [1, 2, 3],\n",
    "    'ridge_regression__alpha': np.geomspace(0.06, 6.0, 20)\n",
    "}\n",
    "\n",
    "grid = GridSearchCV(estimator, params, cv=kf)"
   ]
  },
  {
   "cell_type": "code",
   "execution_count": 96,
   "metadata": {},
   "outputs": [
    {
     "data": {
      "text/plain": [
       "GridSearchCV(cv=KFold(n_splits=3, random_state=72018, shuffle=True),\n",
       "             estimator=Pipeline(steps=[('scaler', StandardScaler()),\n",
       "                                       ('polynomial_features',\n",
       "                                        PolynomialFeatures()),\n",
       "                                       ('ridge_regression', Ridge())]),\n",
       "             param_grid={'polynomial_features__degree': [1, 2, 3],\n",
       "                         'ridge_regression__alpha': array([0.06      , 0.0764565 , 0.0974266 , 0.12414828, 0.15819905,\n",
       "       0.2015891 , 0.25687994, 0.32733569, 0.41711568, 0.53152007,\n",
       "       0.67730274, 0.86306993, 1.09978843, 1.40143288, 1.78581086,\n",
       "       2.27561411, 2.89975814, 3.69508927, 4.70855982, 6.        ])})"
      ]
     },
     "execution_count": 96,
     "metadata": {},
     "output_type": "execute_result"
    }
   ],
   "source": [
    "grid.fit(X, y)"
   ]
  },
  {
   "cell_type": "code",
   "execution_count": 97,
   "metadata": {},
   "outputs": [
    {
     "data": {
      "text/plain": [
       "(0.9997569637930391,\n",
       " {'polynomial_features__degree': 3,\n",
       "  'ridge_regression__alpha': 0.2568799439231636})"
      ]
     },
     "execution_count": 97,
     "metadata": {},
     "output_type": "execute_result"
    }
   ],
   "source": [
    "grid.best_score_, grid.best_params_"
   ]
  },
  {
   "cell_type": "code",
   "execution_count": 98,
   "metadata": {},
   "outputs": [],
   "source": [
    "y_predict = grid.predict(X)"
   ]
  },
  {
   "cell_type": "code",
   "execution_count": 99,
   "metadata": {},
   "outputs": [
    {
     "data": {
      "text/plain": [
       "0.9999861077397771"
      ]
     },
     "execution_count": 99,
     "metadata": {},
     "output_type": "execute_result"
    }
   ],
   "source": [
    "# This includes both in-sample and out-of-sample\n",
    "ridge_r2 = r2_score(y, y_predict)\n",
    "ridge_r2"
   ]
  },
  {
   "cell_type": "code",
   "execution_count": 100,
   "metadata": {},
   "outputs": [
    {
     "name": "stdout",
     "output_type": "stream",
     "text": [
      "0.2360925850317497\n"
     ]
    }
   ],
   "source": [
    "ridge_rmse = rmse(y, y_predict)\n",
    "print(ridge_rmse)"
   ]
  },
  {
   "cell_type": "code",
   "execution_count": 101,
   "metadata": {},
   "outputs": [
    {
     "data": {
      "text/plain": [
       "0.1759113059308602"
      ]
     },
     "execution_count": 101,
     "metadata": {},
     "output_type": "execute_result"
    }
   ],
   "source": [
    "ridge_mae = mean_absolute_error(y, y_predict)\n",
    "ridge_mae"
   ]
  },
  {
   "cell_type": "code",
   "execution_count": 102,
   "metadata": {},
   "outputs": [
    {
     "data": {
      "text/plain": [
       "0.055739708706973964"
      ]
     },
     "execution_count": 102,
     "metadata": {},
     "output_type": "execute_result"
    }
   ],
   "source": [
    "ridge_mse = mean_squared_error(y, y_predict)\n",
    "ridge_mse"
   ]
  },
  {
   "cell_type": "code",
   "execution_count": 103,
   "metadata": {},
   "outputs": [
    {
     "data": {
      "text/plain": [
       "array([0.        , 0.05026506, 0.00040552, ..., 0.04569496, 0.00667296,\n",
       "       0.05902808])"
      ]
     },
     "execution_count": 103,
     "metadata": {},
     "output_type": "execute_result"
    }
   ],
   "source": [
    "grid.best_estimator_.named_steps['ridge_regression'].coef_"
   ]
  },
  {
   "cell_type": "markdown",
   "metadata": {},
   "source": [
    "##  Model Evaluation Metrics for Regression"
   ]
  },
  {
   "cell_type": "markdown",
   "metadata": {},
   "source": [
    "**Mean Absolute Error (MAE)** represents the average of the absolute difference between the actual and predicted values in the dataset. It measures the average of the residuals in the dataset.\n",
    "\n",
    "**Mean Squared Error (MSE)** represents the average of the squared difference between the original and predicted values in the data set. It measures the variance of the residuals.\n",
    "\n",
    "**Root Mean Squared Error (RMSE)** is the square root of Mean Squared error. It measures the standard deviation of residuals.\n",
    "\n",
    "**R-squared (R2)** which is the proportion of variation in the outcome that is explained by the predictor variables. In multiple regression models, R2 corresponds to the squared correlation between the observed outcome values and the predicted values by the model. The Higher the R-squared, the better the model. The coefficient of determination or R-squared represents the proportion of the variance in the dependent variable which is explained by the linear regression model. It is a scale-free score i.e. irrespective of the values being small or large, the value of R square will be less than one."
   ]
  },
  {
   "cell_type": "markdown",
   "metadata": {},
   "source": [
    "Now, let's compare how different metrics looks like in different model: Linear Regression, Lasso and Ridge Regression"
   ]
  },
  {
   "cell_type": "code",
   "execution_count": 112,
   "metadata": {},
   "outputs": [
    {
     "data": {
      "text/html": [
       "<div>\n",
       "<style scoped>\n",
       "    .dataframe tbody tr th:only-of-type {\n",
       "        vertical-align: middle;\n",
       "    }\n",
       "\n",
       "    .dataframe tbody tr th {\n",
       "        vertical-align: top;\n",
       "    }\n",
       "\n",
       "    .dataframe thead th {\n",
       "        text-align: right;\n",
       "    }\n",
       "</style>\n",
       "<table border=\"1\" class=\"dataframe\">\n",
       "  <thead>\n",
       "    <tr style=\"text-align: right;\">\n",
       "      <th></th>\n",
       "      <th>MAE</th>\n",
       "      <th>MSE</th>\n",
       "      <th>RMSE</th>\n",
       "      <th>R^2</th>\n",
       "    </tr>\n",
       "  </thead>\n",
       "  <tbody>\n",
       "    <tr>\n",
       "      <th>Linear</th>\n",
       "      <td>2.541668</td>\n",
       "      <td>16.537494</td>\n",
       "      <td>4.066632</td>\n",
       "      <td>0.995469</td>\n",
       "    </tr>\n",
       "    <tr>\n",
       "      <th>Ridge</th>\n",
       "      <td>0.175911</td>\n",
       "      <td>0.055740</td>\n",
       "      <td>0.236093</td>\n",
       "      <td>0.999986</td>\n",
       "    </tr>\n",
       "    <tr>\n",
       "      <th>Lasso</th>\n",
       "      <td>0.549316</td>\n",
       "      <td>0.453746</td>\n",
       "      <td>0.673607</td>\n",
       "      <td>0.999887</td>\n",
       "    </tr>\n",
       "  </tbody>\n",
       "</table>\n",
       "</div>"
      ],
      "text/plain": [
       "             MAE        MSE      RMSE       R^2\n",
       "Linear  2.541668  16.537494  4.066632  0.995469\n",
       "Ridge   0.175911   0.055740  0.236093  0.999986\n",
       "Lasso   0.549316   0.453746  0.673607  0.999887"
      ]
     },
     "execution_count": 112,
     "metadata": {},
     "output_type": "execute_result"
    }
   ],
   "source": [
    "rmse_vals = [linear_reg_rmse, ridge_rmse, lasso_rmse]\n",
    "r2_vals = [linear_r2, ridge_r2, lasso_r2]\n",
    "mae_vals = [linear_mae, ridge_mae, lasso_mae]\n",
    "mse_vals = [linear_mse, ridge_mse, lasso_mse]\n",
    "\n",
    "labels = ['Linear', 'Ridge', 'Lasso']\n",
    "\n",
    "metrics = {'MAE': mae_vals, 'MSE': mse_vals, 'RMSE': rmse_vals, 'R^2': r2_vals}\n",
    "metrics_df = pd.DataFrame(metrics, index=labels)\n",
    "\n",
    "metrics_df"
   ]
  },
  {
   "cell_type": "markdown",
   "metadata": {},
   "source": [
    "## Model Evaluation - 3 different features"
   ]
  },
  {
   "cell_type": "markdown",
   "metadata": {},
   "source": [
    "This model I created above have a high level of accuracy. \n",
    "\n",
    "Right now I would like to play around with data and see what will happend and what will change if I will chose for my model only 6 features insted of 27. "
   ]
  },
  {
   "cell_type": "code",
   "execution_count": 123,
   "metadata": {},
   "outputs": [],
   "source": [
    "# copy df_final dataframe and choose from them only few columns I will work on\n",
    "df3 = df_final.copy()"
   ]
  },
  {
   "cell_type": "code",
   "execution_count": 124,
   "metadata": {},
   "outputs": [
    {
     "data": {
      "text/html": [
       "<div>\n",
       "<style scoped>\n",
       "    .dataframe tbody tr th:only-of-type {\n",
       "        vertical-align: middle;\n",
       "    }\n",
       "\n",
       "    .dataframe tbody tr th {\n",
       "        vertical-align: top;\n",
       "    }\n",
       "\n",
       "    .dataframe thead th {\n",
       "        text-align: right;\n",
       "    }\n",
       "</style>\n",
       "<table border=\"1\" class=\"dataframe\">\n",
       "  <thead>\n",
       "    <tr style=\"text-align: right;\">\n",
       "      <th></th>\n",
       "      <th>ENGINESIZE</th>\n",
       "      <th>CYLINDERS</th>\n",
       "      <th>FUELTYPE_0</th>\n",
       "      <th>FUELTYPE_1</th>\n",
       "      <th>FUELTYPE_2</th>\n",
       "      <th>FUELTYPE_3</th>\n",
       "      <th>CO2EMISSIONS</th>\n",
       "    </tr>\n",
       "  </thead>\n",
       "  <tbody>\n",
       "    <tr>\n",
       "      <th>0</th>\n",
       "      <td>2.0</td>\n",
       "      <td>1.609438</td>\n",
       "      <td>0.0</td>\n",
       "      <td>0.0</td>\n",
       "      <td>0.0</td>\n",
       "      <td>1.0</td>\n",
       "      <td>196</td>\n",
       "    </tr>\n",
       "    <tr>\n",
       "      <th>1</th>\n",
       "      <td>2.4</td>\n",
       "      <td>1.609438</td>\n",
       "      <td>0.0</td>\n",
       "      <td>0.0</td>\n",
       "      <td>0.0</td>\n",
       "      <td>1.0</td>\n",
       "      <td>221</td>\n",
       "    </tr>\n",
       "    <tr>\n",
       "      <th>2</th>\n",
       "      <td>1.5</td>\n",
       "      <td>1.609438</td>\n",
       "      <td>0.0</td>\n",
       "      <td>0.0</td>\n",
       "      <td>0.0</td>\n",
       "      <td>1.0</td>\n",
       "      <td>136</td>\n",
       "    </tr>\n",
       "    <tr>\n",
       "      <th>3</th>\n",
       "      <td>3.5</td>\n",
       "      <td>1.945910</td>\n",
       "      <td>0.0</td>\n",
       "      <td>0.0</td>\n",
       "      <td>0.0</td>\n",
       "      <td>1.0</td>\n",
       "      <td>255</td>\n",
       "    </tr>\n",
       "    <tr>\n",
       "      <th>4</th>\n",
       "      <td>3.5</td>\n",
       "      <td>1.945910</td>\n",
       "      <td>0.0</td>\n",
       "      <td>0.0</td>\n",
       "      <td>0.0</td>\n",
       "      <td>1.0</td>\n",
       "      <td>244</td>\n",
       "    </tr>\n",
       "  </tbody>\n",
       "</table>\n",
       "</div>"
      ],
      "text/plain": [
       "   ENGINESIZE  CYLINDERS  FUELTYPE_0  FUELTYPE_1  FUELTYPE_2  FUELTYPE_3  \\\n",
       "0         2.0   1.609438         0.0         0.0         0.0         1.0   \n",
       "1         2.4   1.609438         0.0         0.0         0.0         1.0   \n",
       "2         1.5   1.609438         0.0         0.0         0.0         1.0   \n",
       "3         3.5   1.945910         0.0         0.0         0.0         1.0   \n",
       "4         3.5   1.945910         0.0         0.0         0.0         1.0   \n",
       "\n",
       "   CO2EMISSIONS  \n",
       "0           196  \n",
       "1           221  \n",
       "2           136  \n",
       "3           255  \n",
       "4           244  "
      ]
     },
     "execution_count": 124,
     "metadata": {},
     "output_type": "execute_result"
    }
   ],
   "source": [
    "df3 = df3[['ENGINESIZE', 'CYLINDERS', 'FUELTYPE_0', 'FUELTYPE_1', 'FUELTYPE_2', 'FUELTYPE_3', 'CO2EMISSIONS']]\n",
    "df3.head()"
   ]
  },
  {
   "cell_type": "code",
   "execution_count": 125,
   "metadata": {},
   "outputs": [],
   "source": [
    "# X and y selection\n",
    "y_col = 'CO2EMISSIONS'\n",
    "\n",
    "X = df3.drop(y_col, axis=1)\n",
    "y = df3[y_col]"
   ]
  },
  {
   "cell_type": "markdown",
   "metadata": {},
   "source": [
    "### Linear Regression"
   ]
  },
  {
   "cell_type": "code",
   "execution_count": 129,
   "metadata": {},
   "outputs": [
    {
     "data": {
      "text/plain": [
       "0.6738810427242581"
      ]
     },
     "execution_count": 129,
     "metadata": {},
     "output_type": "execute_result"
    }
   ],
   "source": [
    "X_train, X_test, y_train, y_test = train_test_split(X, y, test_size=0.3, \n",
    "                                                    random_state=72018)\n",
    "\n",
    "s = StandardScaler()\n",
    "lr3 = LinearRegression()\n",
    "\n",
    "X_train_s = s.fit_transform(X_train)\n",
    "lr3.fit(X_train_s, y_train)\n",
    "X_test_s = s.transform(X_test)\n",
    "y_pred_s = lr3.predict(X_test_s)\n",
    "linear3_r2 = r2_score(y_pred_s, y_test)\n",
    "linear3_r2"
   ]
  },
  {
   "cell_type": "code",
   "execution_count": 131,
   "metadata": {},
   "outputs": [
    {
     "name": "stdout",
     "output_type": "stream",
     "text": [
      "31.71775486709719\n"
     ]
    }
   ],
   "source": [
    "linear3_rmse = rmse(y_test, y_pred_s)\n",
    "print(linear3_rmse)"
   ]
  },
  {
   "cell_type": "code",
   "execution_count": 132,
   "metadata": {},
   "outputs": [
    {
     "data": {
      "text/plain": [
       "24.25442221292463"
      ]
     },
     "execution_count": 132,
     "metadata": {},
     "output_type": "execute_result"
    }
   ],
   "source": [
    "linear3_mae = mean_absolute_error(y_test, y_pred_s)\n",
    "linear3_mae"
   ]
  },
  {
   "cell_type": "code",
   "execution_count": 133,
   "metadata": {},
   "outputs": [
    {
     "data": {
      "text/plain": [
       "1006.0159738092676"
      ]
     },
     "execution_count": 133,
     "metadata": {},
     "output_type": "execute_result"
    }
   ],
   "source": [
    "linear3_mse = mean_squared_error(y_test, y_pred_s)\n",
    "linear3_mse"
   ]
  },
  {
   "cell_type": "code",
   "execution_count": 134,
   "metadata": {},
   "outputs": [
    {
     "data": {
      "image/png": "[encoded data removed]",
      "text/plain": [
       "<Figure size 432x432 with 1 Axes>"
      ]
     },
     "metadata": {
      "needs_background": "light"
     },
     "output_type": "display_data"
    }
   ],
   "source": [
    "f = plt.figure(figsize=(6,6))\n",
    "ax = plt.axes()\n",
    "\n",
    "ax.plot(y_test, y_pred_s, color='brown',\n",
    "         marker='o', ls='', ms=3.0)\n",
    "\n",
    "lim = (0, y_test.max())\n",
    "\n",
    "ax.set(xlabel='Actual Value', \n",
    "       ylabel='Predicted Value', \n",
    "       xlim=lim,\n",
    "       ylim=lim,\n",
    "       title='Linear Regression Results')\n",
    "plt.show()"
   ]
  },
  {
   "cell_type": "code",
   "execution_count": 150,
   "metadata": {},
   "outputs": [
    {
     "data": {
      "text/plain": [
       "[('ENGINESIZE', 45.185173751365326),\n",
       " ('CYLINDERS', 13.998268133903228),\n",
       " ('FUELTYPE_0', 0.8182013435271867),\n",
       " ('FUELTYPE_1', -2.176875612570028),\n",
       " ('FUELTYPE_2', 1.647838447544006),\n",
       " ('FUELTYPE_3', -0.685996850471843)]"
      ]
     },
     "execution_count": 150,
     "metadata": {},
     "output_type": "execute_result"
    }
   ],
   "source": [
    "list(zip(X.columns, lr3.coef_))"
   ]
  },
  {
   "cell_type": "code",
   "execution_count": 151,
   "metadata": {},
   "outputs": [
    {
     "data": {
      "text/plain": [
       "X    514\n",
       "Z    434\n",
       "E     92\n",
       "D     27\n",
       "Name: FUELTYPE, dtype: int64"
      ]
     },
     "execution_count": 151,
     "metadata": {},
     "output_type": "execute_result"
    }
   ],
   "source": [
    "df['FUELTYPE'].value_counts()"
   ]
  },
  {
   "cell_type": "markdown",
   "metadata": {},
   "source": [
    "### Lasso"
   ]
  },
  {
   "cell_type": "code",
   "execution_count": 135,
   "metadata": {},
   "outputs": [
    {
     "name": "stderr",
     "output_type": "stream",
     "text": [
      "C:\\Users\\pauli\\anaconda3\\lib\\site-packages\\sklearn\\linear_model\\_coordinate_descent.py:529: ConvergenceWarning: Objective did not converge. You might want to increase the number of iterations. Duality gap: 22297.374776882585, tolerance: 290.98595302391\n",
      "  model = cd_fast.enet_coordinate_descent(\n",
      "C:\\Users\\pauli\\anaconda3\\lib\\site-packages\\sklearn\\linear_model\\_coordinate_descent.py:529: ConvergenceWarning: Objective did not converge. You might want to increase the number of iterations. Duality gap: 38052.43776417483, tolerance: 289.1396610407877\n",
      "  model = cd_fast.enet_coordinate_descent(\n",
      "C:\\Users\\pauli\\anaconda3\\lib\\site-packages\\sklearn\\linear_model\\_coordinate_descent.py:529: ConvergenceWarning: Objective did not converge. You might want to increase the number of iterations. Duality gap: 2018.5989298137138, tolerance: 275.5085011235955\n",
      "  model = cd_fast.enet_coordinate_descent(\n",
      "C:\\Users\\pauli\\anaconda3\\lib\\site-packages\\sklearn\\linear_model\\_coordinate_descent.py:529: ConvergenceWarning: Objective did not converge. You might want to increase the number of iterations. Duality gap: 11482.771498794726, tolerance: 290.98595302391\n",
      "  model = cd_fast.enet_coordinate_descent(\n",
      "C:\\Users\\pauli\\anaconda3\\lib\\site-packages\\sklearn\\linear_model\\_coordinate_descent.py:529: ConvergenceWarning: Objective did not converge. You might want to increase the number of iterations. Duality gap: 22593.068877353333, tolerance: 289.1396610407877\n",
      "  model = cd_fast.enet_coordinate_descent(\n",
      "C:\\Users\\pauli\\anaconda3\\lib\\site-packages\\sklearn\\linear_model\\_coordinate_descent.py:529: ConvergenceWarning: Objective did not converge. You might want to increase the number of iterations. Duality gap: 1350.932042018394, tolerance: 275.5085011235955\n",
      "  model = cd_fast.enet_coordinate_descent(\n",
      "C:\\Users\\pauli\\anaconda3\\lib\\site-packages\\sklearn\\linear_model\\_coordinate_descent.py:529: ConvergenceWarning: Objective did not converge. You might want to increase the number of iterations. Duality gap: 1786.2569339728798, tolerance: 290.98595302391\n",
      "  model = cd_fast.enet_coordinate_descent(\n",
      "C:\\Users\\pauli\\anaconda3\\lib\\site-packages\\sklearn\\linear_model\\_coordinate_descent.py:529: ConvergenceWarning: Objective did not converge. You might want to increase the number of iterations. Duality gap: 9372.019752378226, tolerance: 289.1396610407877\n",
      "  model = cd_fast.enet_coordinate_descent(\n",
      "C:\\Users\\pauli\\anaconda3\\lib\\site-packages\\sklearn\\linear_model\\_coordinate_descent.py:529: ConvergenceWarning: Objective did not converge. You might want to increase the number of iterations. Duality gap: 1575.488400176284, tolerance: 275.5085011235955\n",
      "  model = cd_fast.enet_coordinate_descent(\n",
      "C:\\Users\\pauli\\anaconda3\\lib\\site-packages\\sklearn\\linear_model\\_coordinate_descent.py:529: ConvergenceWarning: Objective did not converge. You might want to increase the number of iterations. Duality gap: 1757.1045778163243, tolerance: 290.98595302391\n",
      "  model = cd_fast.enet_coordinate_descent(\n",
      "C:\\Users\\pauli\\anaconda3\\lib\\site-packages\\sklearn\\linear_model\\_coordinate_descent.py:529: ConvergenceWarning: Objective did not converge. You might want to increase the number of iterations. Duality gap: 7858.47712804703, tolerance: 289.1396610407877\n",
      "  model = cd_fast.enet_coordinate_descent(\n",
      "C:\\Users\\pauli\\anaconda3\\lib\\site-packages\\sklearn\\linear_model\\_coordinate_descent.py:529: ConvergenceWarning: Objective did not converge. You might want to increase the number of iterations. Duality gap: 1889.4583919943543, tolerance: 275.5085011235955\n",
      "  model = cd_fast.enet_coordinate_descent(\n",
      "C:\\Users\\pauli\\anaconda3\\lib\\site-packages\\sklearn\\linear_model\\_coordinate_descent.py:529: ConvergenceWarning: Objective did not converge. You might want to increase the number of iterations. Duality gap: 2058.5097023978014, tolerance: 290.98595302391\n",
      "  model = cd_fast.enet_coordinate_descent(\n",
      "C:\\Users\\pauli\\anaconda3\\lib\\site-packages\\sklearn\\linear_model\\_coordinate_descent.py:529: ConvergenceWarning: Objective did not converge. You might want to increase the number of iterations. Duality gap: 8251.335825579881, tolerance: 289.1396610407877\n",
      "  model = cd_fast.enet_coordinate_descent(\n",
      "C:\\Users\\pauli\\anaconda3\\lib\\site-packages\\sklearn\\linear_model\\_coordinate_descent.py:529: ConvergenceWarning: Objective did not converge. You might want to increase the number of iterations. Duality gap: 1905.5762971049407, tolerance: 275.5085011235955\n",
      "  model = cd_fast.enet_coordinate_descent(\n",
      "C:\\Users\\pauli\\anaconda3\\lib\\site-packages\\sklearn\\linear_model\\_coordinate_descent.py:529: ConvergenceWarning: Objective did not converge. You might want to increase the number of iterations. Duality gap: 1865.213947354816, tolerance: 290.98595302391\n",
      "  model = cd_fast.enet_coordinate_descent(\n",
      "C:\\Users\\pauli\\anaconda3\\lib\\site-packages\\sklearn\\linear_model\\_coordinate_descent.py:529: ConvergenceWarning: Objective did not converge. You might want to increase the number of iterations. Duality gap: 8645.785960188427, tolerance: 289.1396610407877\n",
      "  model = cd_fast.enet_coordinate_descent(\n",
      "C:\\Users\\pauli\\anaconda3\\lib\\site-packages\\sklearn\\linear_model\\_coordinate_descent.py:529: ConvergenceWarning: Objective did not converge. You might want to increase the number of iterations. Duality gap: 2164.3970935798716, tolerance: 275.5085011235955\n",
      "  model = cd_fast.enet_coordinate_descent(\n",
      "C:\\Users\\pauli\\anaconda3\\lib\\site-packages\\sklearn\\linear_model\\_coordinate_descent.py:529: ConvergenceWarning: Objective did not converge. You might want to increase the number of iterations. Duality gap: 1993.6386906598927, tolerance: 290.98595302391\n",
      "  model = cd_fast.enet_coordinate_descent(\n",
      "C:\\Users\\pauli\\anaconda3\\lib\\site-packages\\sklearn\\linear_model\\_coordinate_descent.py:529: ConvergenceWarning: Objective did not converge. You might want to increase the number of iterations. Duality gap: 9125.891377224121, tolerance: 289.1396610407877\n",
      "  model = cd_fast.enet_coordinate_descent(\n",
      "C:\\Users\\pauli\\anaconda3\\lib\\site-packages\\sklearn\\linear_model\\_coordinate_descent.py:529: ConvergenceWarning: Objective did not converge. You might want to increase the number of iterations. Duality gap: 2269.68825029477, tolerance: 275.5085011235955\n",
      "  model = cd_fast.enet_coordinate_descent(\n",
      "C:\\Users\\pauli\\anaconda3\\lib\\site-packages\\sklearn\\linear_model\\_coordinate_descent.py:529: ConvergenceWarning: Objective did not converge. You might want to increase the number of iterations. Duality gap: 859.4537452437216, tolerance: 290.98595302391\n",
      "  model = cd_fast.enet_coordinate_descent(\n",
      "C:\\Users\\pauli\\anaconda3\\lib\\site-packages\\sklearn\\linear_model\\_coordinate_descent.py:529: ConvergenceWarning: Objective did not converge. You might want to increase the number of iterations. Duality gap: 9639.547493990569, tolerance: 289.1396610407877\n",
      "  model = cd_fast.enet_coordinate_descent(\n",
      "C:\\Users\\pauli\\anaconda3\\lib\\site-packages\\sklearn\\linear_model\\_coordinate_descent.py:529: ConvergenceWarning: Objective did not converge. You might want to increase the number of iterations. Duality gap: 2434.58937547449, tolerance: 275.5085011235955\n",
      "  model = cd_fast.enet_coordinate_descent(\n",
      "C:\\Users\\pauli\\anaconda3\\lib\\site-packages\\sklearn\\linear_model\\_coordinate_descent.py:529: ConvergenceWarning: Objective did not converge. You might want to increase the number of iterations. Duality gap: 1015.7987464298494, tolerance: 290.98595302391\n",
      "  model = cd_fast.enet_coordinate_descent(\n",
      "C:\\Users\\pauli\\anaconda3\\lib\\site-packages\\sklearn\\linear_model\\_coordinate_descent.py:529: ConvergenceWarning: Objective did not converge. You might want to increase the number of iterations. Duality gap: 10072.06058273639, tolerance: 289.1396610407877\n",
      "  model = cd_fast.enet_coordinate_descent(\n",
      "C:\\Users\\pauli\\anaconda3\\lib\\site-packages\\sklearn\\linear_model\\_coordinate_descent.py:529: ConvergenceWarning: Objective did not converge. You might want to increase the number of iterations. Duality gap: 2531.520506523084, tolerance: 275.5085011235955\n",
      "  model = cd_fast.enet_coordinate_descent(\n",
      "C:\\Users\\pauli\\anaconda3\\lib\\site-packages\\sklearn\\linear_model\\_coordinate_descent.py:529: ConvergenceWarning: Objective did not converge. You might want to increase the number of iterations. Duality gap: 1172.4131974636693, tolerance: 290.98595302391\n",
      "  model = cd_fast.enet_coordinate_descent(\n",
      "C:\\Users\\pauli\\anaconda3\\lib\\site-packages\\sklearn\\linear_model\\_coordinate_descent.py:529: ConvergenceWarning: Objective did not converge. You might want to increase the number of iterations. Duality gap: 2871.052896856214, tolerance: 289.1396610407877\n",
      "  model = cd_fast.enet_coordinate_descent(\n",
      "C:\\Users\\pauli\\anaconda3\\lib\\site-packages\\sklearn\\linear_model\\_coordinate_descent.py:529: ConvergenceWarning: Objective did not converge. You might want to increase the number of iterations. Duality gap: 2140.7809156971052, tolerance: 275.5085011235955\n",
      "  model = cd_fast.enet_coordinate_descent(\n"
     ]
    },
    {
     "name": "stderr",
     "output_type": "stream",
     "text": [
      "C:\\Users\\pauli\\anaconda3\\lib\\site-packages\\sklearn\\linear_model\\_coordinate_descent.py:529: ConvergenceWarning: Objective did not converge. You might want to increase the number of iterations. Duality gap: 1304.2898825226584, tolerance: 290.98595302391\n",
      "  model = cd_fast.enet_coordinate_descent(\n",
      "C:\\Users\\pauli\\anaconda3\\lib\\site-packages\\sklearn\\linear_model\\_coordinate_descent.py:529: ConvergenceWarning: Objective did not converge. You might want to increase the number of iterations. Duality gap: 1872.6207428252092, tolerance: 275.5085011235955\n",
      "  model = cd_fast.enet_coordinate_descent(\n",
      "C:\\Users\\pauli\\anaconda3\\lib\\site-packages\\sklearn\\linear_model\\_coordinate_descent.py:529: ConvergenceWarning: Objective did not converge. You might want to increase the number of iterations. Duality gap: 1517.4515555709368, tolerance: 290.98595302391\n",
      "  model = cd_fast.enet_coordinate_descent(\n",
      "C:\\Users\\pauli\\anaconda3\\lib\\site-packages\\sklearn\\linear_model\\_coordinate_descent.py:529: ConvergenceWarning: Objective did not converge. You might want to increase the number of iterations. Duality gap: 1636.8149219915504, tolerance: 290.98595302391\n",
      "  model = cd_fast.enet_coordinate_descent(\n",
      "C:\\Users\\pauli\\anaconda3\\lib\\site-packages\\sklearn\\linear_model\\_coordinate_descent.py:529: ConvergenceWarning: Objective did not converge. You might want to increase the number of iterations. Duality gap: 1729.6401592467446, tolerance: 290.98595302391\n",
      "  model = cd_fast.enet_coordinate_descent(\n",
      "C:\\Users\\pauli\\anaconda3\\lib\\site-packages\\sklearn\\linear_model\\_coordinate_descent.py:529: ConvergenceWarning: Objective did not converge. You might want to increase the number of iterations. Duality gap: 612.2593322815374, tolerance: 290.98595302391\n",
      "  model = cd_fast.enet_coordinate_descent(\n"
     ]
    },
    {
     "data": {
      "text/plain": [
       "GridSearchCV(cv=KFold(n_splits=3, random_state=72018, shuffle=True),\n",
       "             estimator=Pipeline(steps=[('scaler', StandardScaler()),\n",
       "                                       ('polynomial_features',\n",
       "                                        PolynomialFeatures()),\n",
       "                                       ('lasso_regression', Lasso())]),\n",
       "             param_grid={'lasso_regression__alpha': array([0.06      , 0.0764565 , 0.0974266 , 0.12414828, 0.15819905,\n",
       "       0.2015891 , 0.25687994, 0.32733569, 0.41711568, 0.53152007,\n",
       "       0.67730274, 0.86306993, 1.09978843, 1.40143288, 1.78581086,\n",
       "       2.27561411, 2.89975814, 3.69508927, 4.70855982, 6.        ]),\n",
       "                         'polynomial_features__degree': [1, 2, 3]})"
      ]
     },
     "execution_count": 135,
     "metadata": {},
     "output_type": "execute_result"
    }
   ],
   "source": [
    "# Same estimator as before\n",
    "estimator = Pipeline([(\"scaler\", StandardScaler()),\n",
    "        (\"polynomial_features\", PolynomialFeatures()),\n",
    "        (\"lasso_regression\", Lasso())])\n",
    "\n",
    "params = {\n",
    "    'polynomial_features__degree': [1, 2, 3],\n",
    "    'lasso_regression__alpha': np.geomspace(0.06, 6.0, 20)\n",
    "}\n",
    "\n",
    "grid = GridSearchCV(estimator, params, cv=kf)\n",
    "\n",
    "grid.fit(X, y)"
   ]
  },
  {
   "cell_type": "code",
   "execution_count": 136,
   "metadata": {},
   "outputs": [
    {
     "data": {
      "text/plain": [
       "(0.7909651641895863,\n",
       " {'lasso_regression__alpha': 0.06, 'polynomial_features__degree': 2})"
      ]
     },
     "execution_count": 136,
     "metadata": {},
     "output_type": "execute_result"
    }
   ],
   "source": [
    "grid.best_score_, grid.best_params_"
   ]
  },
  {
   "cell_type": "code",
   "execution_count": 137,
   "metadata": {},
   "outputs": [],
   "source": [
    "y_predict = grid.predict(X)"
   ]
  },
  {
   "cell_type": "code",
   "execution_count": 138,
   "metadata": {},
   "outputs": [
    {
     "data": {
      "text/plain": [
       "0.7987702094914177"
      ]
     },
     "execution_count": 138,
     "metadata": {},
     "output_type": "execute_result"
    }
   ],
   "source": [
    "# r^2 score \n",
    "lasso2_r2 = r2_score(y, y_predict)\n",
    "lasso2_r2"
   ]
  },
  {
   "cell_type": "code",
   "execution_count": 139,
   "metadata": {},
   "outputs": [
    {
     "name": "stdout",
     "output_type": "stream",
     "text": [
      "28.414631623032708\n"
     ]
    }
   ],
   "source": [
    "# RMSE\n",
    "lasso2_rmse = rmse(y, y_predict)\n",
    "print(lasso2_rmse)"
   ]
  },
  {
   "cell_type": "code",
   "execution_count": 140,
   "metadata": {},
   "outputs": [
    {
     "data": {
      "text/plain": [
       "21.636823630529612"
      ]
     },
     "execution_count": 140,
     "metadata": {},
     "output_type": "execute_result"
    }
   ],
   "source": [
    "# MAE\n",
    "lasso2_mae = mean_absolute_error(y, y_predict)\n",
    "lasso2_mae"
   ]
  },
  {
   "cell_type": "code",
   "execution_count": 141,
   "metadata": {},
   "outputs": [
    {
     "data": {
      "text/plain": [
       "807.3912902726504"
      ]
     },
     "execution_count": 141,
     "metadata": {},
     "output_type": "execute_result"
    }
   ],
   "source": [
    "# MSE\n",
    "lasso2_mse = mean_squared_error(y, y_predict)\n",
    "lasso2_mse"
   ]
  },
  {
   "cell_type": "markdown",
   "metadata": {},
   "source": [
    "### Ridge"
   ]
  },
  {
   "cell_type": "code",
   "execution_count": 142,
   "metadata": {},
   "outputs": [
    {
     "data": {
      "text/plain": [
       "GridSearchCV(cv=KFold(n_splits=3, random_state=72018, shuffle=True),\n",
       "             estimator=Pipeline(steps=[('scaler', StandardScaler()),\n",
       "                                       ('polynomial_features',\n",
       "                                        PolynomialFeatures()),\n",
       "                                       ('ridge_regression', Ridge())]),\n",
       "             param_grid={'polynomial_features__degree': [1, 2, 3],\n",
       "                         'ridge_regression__alpha': array([0.06      , 0.0764565 , 0.0974266 , 0.12414828, 0.15819905,\n",
       "       0.2015891 , 0.25687994, 0.32733569, 0.41711568, 0.53152007,\n",
       "       0.67730274, 0.86306993, 1.09978843, 1.40143288, 1.78581086,\n",
       "       2.27561411, 2.89975814, 3.69508927, 4.70855982, 6.        ])})"
      ]
     },
     "execution_count": 142,
     "metadata": {},
     "output_type": "execute_result"
    }
   ],
   "source": [
    "# Same estimator as before\n",
    "estimator = Pipeline([(\"scaler\", StandardScaler()),\n",
    "        (\"polynomial_features\", PolynomialFeatures()),\n",
    "        (\"ridge_regression\", Ridge())])\n",
    "\n",
    "params = {\n",
    "    'polynomial_features__degree': [1, 2, 3],\n",
    "    'ridge_regression__alpha': np.geomspace(0.06, 6.0, 20)\n",
    "}\n",
    "\n",
    "grid = GridSearchCV(estimator, params, cv=kf)\n",
    "\n",
    "grid.fit(X, y)"
   ]
  },
  {
   "cell_type": "code",
   "execution_count": 143,
   "metadata": {},
   "outputs": [
    {
     "data": {
      "text/plain": [
       "(0.7908164603187764,\n",
       " {'polynomial_features__degree': 2,\n",
       "  'ridge_regression__alpha': 0.5315200742460495})"
      ]
     },
     "execution_count": 143,
     "metadata": {},
     "output_type": "execute_result"
    }
   ],
   "source": [
    "grid.best_score_, grid.best_params_"
   ]
  },
  {
   "cell_type": "code",
   "execution_count": 144,
   "metadata": {},
   "outputs": [],
   "source": [
    "y_predict = grid.predict(X)"
   ]
  },
  {
   "cell_type": "code",
   "execution_count": 145,
   "metadata": {},
   "outputs": [
    {
     "data": {
      "text/plain": [
       "0.7995835973565685"
      ]
     },
     "execution_count": 145,
     "metadata": {},
     "output_type": "execute_result"
    }
   ],
   "source": [
    "# r^2 score \n",
    "ridge2_r2 = r2_score(y, y_predict)\n",
    "ridge2_r2"
   ]
  },
  {
   "cell_type": "code",
   "execution_count": 146,
   "metadata": {},
   "outputs": [
    {
     "name": "stdout",
     "output_type": "stream",
     "text": [
      "28.357146299658286\n"
     ]
    }
   ],
   "source": [
    "# RMSE\n",
    "ridge2_rmse = rmse(y, y_predict)\n",
    "print(ridge2_rmse)"
   ]
  },
  {
   "cell_type": "code",
   "execution_count": 147,
   "metadata": {},
   "outputs": [
    {
     "data": {
      "text/plain": [
       "21.62737969756012"
      ]
     },
     "execution_count": 147,
     "metadata": {},
     "output_type": "execute_result"
    }
   ],
   "source": [
    "# MAE\n",
    "ridge2_mae = mean_absolute_error(y, y_predict)\n",
    "ridge2_mae"
   ]
  },
  {
   "cell_type": "code",
   "execution_count": 148,
   "metadata": {},
   "outputs": [
    {
     "data": {
      "text/plain": [
       "804.1277462602237"
      ]
     },
     "execution_count": 148,
     "metadata": {},
     "output_type": "execute_result"
    }
   ],
   "source": [
    "# MSE\n",
    "ridge2_mse = mean_squared_error(y, y_predict)\n",
    "ridge2_mse"
   ]
  },
  {
   "cell_type": "markdown",
   "metadata": {},
   "source": [
    "### Metrics "
   ]
  },
  {
   "cell_type": "code",
   "execution_count": 152,
   "metadata": {},
   "outputs": [
    {
     "data": {
      "text/html": [
       "<div>\n",
       "<style scoped>\n",
       "    .dataframe tbody tr th:only-of-type {\n",
       "        vertical-align: middle;\n",
       "    }\n",
       "\n",
       "    .dataframe tbody tr th {\n",
       "        vertical-align: top;\n",
       "    }\n",
       "\n",
       "    .dataframe thead th {\n",
       "        text-align: right;\n",
       "    }\n",
       "</style>\n",
       "<table border=\"1\" class=\"dataframe\">\n",
       "  <thead>\n",
       "    <tr style=\"text-align: right;\">\n",
       "      <th></th>\n",
       "      <th>MAE</th>\n",
       "      <th>MSE</th>\n",
       "      <th>RMSE</th>\n",
       "      <th>R^2</th>\n",
       "    </tr>\n",
       "  </thead>\n",
       "  <tbody>\n",
       "    <tr>\n",
       "      <th>Linear</th>\n",
       "      <td>24.254422</td>\n",
       "      <td>1006.015974</td>\n",
       "      <td>31.717755</td>\n",
       "      <td>0.673881</td>\n",
       "    </tr>\n",
       "    <tr>\n",
       "      <th>Ridge</th>\n",
       "      <td>21.627380</td>\n",
       "      <td>804.127746</td>\n",
       "      <td>28.357146</td>\n",
       "      <td>0.799584</td>\n",
       "    </tr>\n",
       "    <tr>\n",
       "      <th>Lasso</th>\n",
       "      <td>21.636824</td>\n",
       "      <td>807.391290</td>\n",
       "      <td>28.414632</td>\n",
       "      <td>0.798770</td>\n",
       "    </tr>\n",
       "  </tbody>\n",
       "</table>\n",
       "</div>"
      ],
      "text/plain": [
       "              MAE          MSE       RMSE       R^2\n",
       "Linear  24.254422  1006.015974  31.717755  0.673881\n",
       "Ridge   21.627380   804.127746  28.357146  0.799584\n",
       "Lasso   21.636824   807.391290  28.414632  0.798770"
      ]
     },
     "execution_count": 152,
     "metadata": {},
     "output_type": "execute_result"
    }
   ],
   "source": [
    "rmse_vals = [linear3_rmse, ridge2_rmse, lasso2_rmse]\n",
    "r2_vals = [linear3_r2, ridge2_r2, lasso2_r2]\n",
    "mae_vals = [linear3_mae, ridge2_mae, lasso2_mae]\n",
    "mse_vals = [linear3_mse, ridge2_mse, lasso2_mse]\n",
    "\n",
    "labels = ['Linear', 'Ridge', 'Lasso']\n",
    "\n",
    "metrics = {'MAE': mae_vals, 'MSE': mse_vals, 'RMSE': rmse_vals, 'R^2': r2_vals}\n",
    "metrics_df2 = pd.DataFrame(metrics, index=labels)\n",
    "\n",
    "metrics_df2"
   ]
  },
  {
   "cell_type": "code",
   "execution_count": null,
   "metadata": {},
   "outputs": [],
   "source": []
  }
 ],
 "metadata": {
  "kernelspec": {
   "display_name": "Python 3",
   "language": "python",
   "name": "python3"
  },
  "language_info": {
   "codemirror_mode": {
    "name": "ipython",
    "version": 3
   },
   "file_extension": ".py",
   "mimetype": "text/x-python",
   "name": "python",
   "nbconvert_exporter": "python",
   "pygments_lexer": "ipython3",
   "version": "3.8.3"
  }
 },
 "nbformat": 4,
 "nbformat_minor": 4
}
